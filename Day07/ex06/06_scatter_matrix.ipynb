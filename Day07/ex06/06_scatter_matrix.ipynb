{
  "nbformat": 4,
  "nbformat_minor": 0,
  "metadata": {
    "colab": {
      "provenance": [],
      "collapsed_sections": []
    },
    "kernelspec": {
      "name": "python3",
      "display_name": "Python 3"
    },
    "language_info": {
      "name": "python"
    }
  },
  "cells": [
    {
      "cell_type": "markdown",
      "source": [
        "## Imports"
      ],
      "metadata": {
        "id": "GhZ_fK2B5WHP"
      }
    },
    {
      "cell_type": "code",
      "execution_count": 33,
      "metadata": {
        "id": "VXv5sBRC466h"
      },
      "outputs": [],
      "source": [
        "import pandas as pd\n",
        "import sqlite3\n",
        "from pandas.plotting import scatter_matrix"
      ]
    },
    {
      "cell_type": "markdown",
      "source": [
        "## Connect"
      ],
      "metadata": {
        "id": "OEsD3QnM7pCi"
      }
    },
    {
      "cell_type": "code",
      "source": [
        "connect = sqlite3.connect('../data/checking-logs.sqlite')"
      ],
      "metadata": {
        "id": "TsNK25K37q2n"
      },
      "execution_count": 34,
      "outputs": []
    },
    {
      "cell_type": "markdown",
      "source": [
        "## create a dataframe where each user of the test group has the average difference, number of pageviews and number of commits\n",
        "## do not take project1 into account for calculations of the average difference and the number of commits\n",
        "## take the number of commits from the checker table"
      ],
      "metadata": {
        "id": "lakaNYXk8j1D"
      }
    },
    {
      "cell_type": "code",
      "source": [
        "df = pd.io.sql.read_sql(\n",
        "    \"\"\"\n",
        "    select avg_diff, pageviews, num_commits\n",
        "    from\n",
        "    (\n",
        "        select uid, avg(cast((julianday(test.first_commit_ts) - julianday(datetime(deadlines.deadlines, 'unixepoch'))) * 24 as integer)) as avg_diff\n",
        "        from test left join deadlines on test.labname = deadlines.labs\n",
        "        where not test.labname = 'project1'\n",
        "        group by uid\n",
        "    ) as diff left join\n",
        "    (\n",
        "        select uid, count(*) as pageviews\n",
        "        from pageviews\n",
        "        group by uid\n",
        "    ) as views on diff.uid = views.uid left join\n",
        "    (\n",
        "        select uid, count(*) as num_commits\n",
        "        from checker\n",
        "        group by uid\n",
        "    ) as commits on diff.uid = commits.uid\n",
        "    \"\"\",\n",
        "    connect\n",
        ")\n",
        "df"
      ],
      "metadata": {
        "colab": {
          "base_uri": "https://localhost:8080/",
          "height": 394
        },
        "id": "M8YSIhb0A6g1",
        "outputId": "185dfbfb-8d26-497a-9aa2-d87f5cd41fbb"
      },
      "execution_count": 47,
      "outputs": [
        {
          "output_type": "execute_result",
          "data": {
            "text/plain": [
              "      avg_diff  pageviews  num_commits\n",
              "0   -64.400000         28           84\n",
              "1   -74.800000         89          137\n",
              "2  -159.000000        143          259\n",
              "3   -61.600000         47           62\n",
              "4    -5.666667          3           66\n",
              "5   -98.750000         16          176\n",
              "6   -95.500000         10           83\n",
              "7   -92.600000        179          233\n",
              "8   -86.400000        149          114\n",
              "9  -105.400000        317          134\n",
              "10 -145.250000          3           72"
            ],
            "text/html": [
              "\n",
              "  <div id=\"df-e025bcf2-990f-4695-846c-7e25d12ac929\">\n",
              "    <div class=\"colab-df-container\">\n",
              "      <div>\n",
              "<style scoped>\n",
              "    .dataframe tbody tr th:only-of-type {\n",
              "        vertical-align: middle;\n",
              "    }\n",
              "\n",
              "    .dataframe tbody tr th {\n",
              "        vertical-align: top;\n",
              "    }\n",
              "\n",
              "    .dataframe thead th {\n",
              "        text-align: right;\n",
              "    }\n",
              "</style>\n",
              "<table border=\"1\" class=\"dataframe\">\n",
              "  <thead>\n",
              "    <tr style=\"text-align: right;\">\n",
              "      <th></th>\n",
              "      <th>avg_diff</th>\n",
              "      <th>pageviews</th>\n",
              "      <th>num_commits</th>\n",
              "    </tr>\n",
              "  </thead>\n",
              "  <tbody>\n",
              "    <tr>\n",
              "      <th>0</th>\n",
              "      <td>-64.400000</td>\n",
              "      <td>28</td>\n",
              "      <td>84</td>\n",
              "    </tr>\n",
              "    <tr>\n",
              "      <th>1</th>\n",
              "      <td>-74.800000</td>\n",
              "      <td>89</td>\n",
              "      <td>137</td>\n",
              "    </tr>\n",
              "    <tr>\n",
              "      <th>2</th>\n",
              "      <td>-159.000000</td>\n",
              "      <td>143</td>\n",
              "      <td>259</td>\n",
              "    </tr>\n",
              "    <tr>\n",
              "      <th>3</th>\n",
              "      <td>-61.600000</td>\n",
              "      <td>47</td>\n",
              "      <td>62</td>\n",
              "    </tr>\n",
              "    <tr>\n",
              "      <th>4</th>\n",
              "      <td>-5.666667</td>\n",
              "      <td>3</td>\n",
              "      <td>66</td>\n",
              "    </tr>\n",
              "    <tr>\n",
              "      <th>5</th>\n",
              "      <td>-98.750000</td>\n",
              "      <td>16</td>\n",
              "      <td>176</td>\n",
              "    </tr>\n",
              "    <tr>\n",
              "      <th>6</th>\n",
              "      <td>-95.500000</td>\n",
              "      <td>10</td>\n",
              "      <td>83</td>\n",
              "    </tr>\n",
              "    <tr>\n",
              "      <th>7</th>\n",
              "      <td>-92.600000</td>\n",
              "      <td>179</td>\n",
              "      <td>233</td>\n",
              "    </tr>\n",
              "    <tr>\n",
              "      <th>8</th>\n",
              "      <td>-86.400000</td>\n",
              "      <td>149</td>\n",
              "      <td>114</td>\n",
              "    </tr>\n",
              "    <tr>\n",
              "      <th>9</th>\n",
              "      <td>-105.400000</td>\n",
              "      <td>317</td>\n",
              "      <td>134</td>\n",
              "    </tr>\n",
              "    <tr>\n",
              "      <th>10</th>\n",
              "      <td>-145.250000</td>\n",
              "      <td>3</td>\n",
              "      <td>72</td>\n",
              "    </tr>\n",
              "  </tbody>\n",
              "</table>\n",
              "</div>\n",
              "      <button class=\"colab-df-convert\" onclick=\"convertToInteractive('df-e025bcf2-990f-4695-846c-7e25d12ac929')\"\n",
              "              title=\"Convert this dataframe to an interactive table.\"\n",
              "              style=\"display:none;\">\n",
              "        \n",
              "  <svg xmlns=\"http://www.w3.org/2000/svg\" height=\"24px\"viewBox=\"0 0 24 24\"\n",
              "       width=\"24px\">\n",
              "    <path d=\"M0 0h24v24H0V0z\" fill=\"none\"/>\n",
              "    <path d=\"M18.56 5.44l.94 2.06.94-2.06 2.06-.94-2.06-.94-.94-2.06-.94 2.06-2.06.94zm-11 1L8.5 8.5l.94-2.06 2.06-.94-2.06-.94L8.5 2.5l-.94 2.06-2.06.94zm10 10l.94 2.06.94-2.06 2.06-.94-2.06-.94-.94-2.06-.94 2.06-2.06.94z\"/><path d=\"M17.41 7.96l-1.37-1.37c-.4-.4-.92-.59-1.43-.59-.52 0-1.04.2-1.43.59L10.3 9.45l-7.72 7.72c-.78.78-.78 2.05 0 2.83L4 21.41c.39.39.9.59 1.41.59.51 0 1.02-.2 1.41-.59l7.78-7.78 2.81-2.81c.8-.78.8-2.07 0-2.86zM5.41 20L4 18.59l7.72-7.72 1.47 1.35L5.41 20z\"/>\n",
              "  </svg>\n",
              "      </button>\n",
              "      \n",
              "  <style>\n",
              "    .colab-df-container {\n",
              "      display:flex;\n",
              "      flex-wrap:wrap;\n",
              "      gap: 12px;\n",
              "    }\n",
              "\n",
              "    .colab-df-convert {\n",
              "      background-color: #E8F0FE;\n",
              "      border: none;\n",
              "      border-radius: 50%;\n",
              "      cursor: pointer;\n",
              "      display: none;\n",
              "      fill: #1967D2;\n",
              "      height: 32px;\n",
              "      padding: 0 0 0 0;\n",
              "      width: 32px;\n",
              "    }\n",
              "\n",
              "    .colab-df-convert:hover {\n",
              "      background-color: #E2EBFA;\n",
              "      box-shadow: 0px 1px 2px rgba(60, 64, 67, 0.3), 0px 1px 3px 1px rgba(60, 64, 67, 0.15);\n",
              "      fill: #174EA6;\n",
              "    }\n",
              "\n",
              "    [theme=dark] .colab-df-convert {\n",
              "      background-color: #3B4455;\n",
              "      fill: #D2E3FC;\n",
              "    }\n",
              "\n",
              "    [theme=dark] .colab-df-convert:hover {\n",
              "      background-color: #434B5C;\n",
              "      box-shadow: 0px 1px 3px 1px rgba(0, 0, 0, 0.15);\n",
              "      filter: drop-shadow(0px 1px 2px rgba(0, 0, 0, 0.3));\n",
              "      fill: #FFFFFF;\n",
              "    }\n",
              "  </style>\n",
              "\n",
              "      <script>\n",
              "        const buttonEl =\n",
              "          document.querySelector('#df-e025bcf2-990f-4695-846c-7e25d12ac929 button.colab-df-convert');\n",
              "        buttonEl.style.display =\n",
              "          google.colab.kernel.accessAllowed ? 'block' : 'none';\n",
              "\n",
              "        async function convertToInteractive(key) {\n",
              "          const element = document.querySelector('#df-e025bcf2-990f-4695-846c-7e25d12ac929');\n",
              "          const dataTable =\n",
              "            await google.colab.kernel.invokeFunction('convertToInteractive',\n",
              "                                                     [key], {});\n",
              "          if (!dataTable) return;\n",
              "\n",
              "          const docLinkHtml = 'Like what you see? Visit the ' +\n",
              "            '<a target=\"_blank\" href=https://colab.research.google.com/notebooks/data_table.ipynb>data table notebook</a>'\n",
              "            + ' to learn more about interactive tables.';\n",
              "          element.innerHTML = '';\n",
              "          dataTable['output_type'] = 'display_data';\n",
              "          await google.colab.output.renderOutput(dataTable, element);\n",
              "          const docLink = document.createElement('div');\n",
              "          docLink.innerHTML = docLinkHtml;\n",
              "          element.appendChild(docLink);\n",
              "        }\n",
              "      </script>\n",
              "    </div>\n",
              "  </div>\n",
              "  "
            ]
          },
          "metadata": {},
          "execution_count": 47
        }
      ]
    },
    {
      "cell_type": "markdown",
      "source": [
        "## the figsize is still the same, you can choose whatever fontsize you like as well as the color palette\n",
        "## the size of the dots should be 200\n",
        "## the width of the lines of the diagonal graphs (kde) should be 3"
      ],
      "metadata": {
        "id": "mVWac_HgBfN2"
      }
    },
    {
      "cell_type": "code",
      "source": [
        "ax = scatter_matrix(df,\n",
        "                    figsize=(15, 8),\n",
        "                    diagonal='kde',\n",
        "                    s=200,\n",
        "                    color='red')"
      ],
      "metadata": {
        "colab": {
          "base_uri": "https://localhost:8080/",
          "height": 510
        },
        "id": "U-MZg5XqBmRu",
        "outputId": "cf57e47b-0ffe-49f4-dc25-9eac41cb42b1"
      },
      "execution_count": 48,
      "outputs": [
        {
          "output_type": "display_data",
          "data": {
            "text/plain": [
              "<Figure size 1080x576 with 9 Axes>"
            ],
            "image/png": "[encoded data removed]"
          },
          "metadata": {
            "needs_background": "light"
          }
        }
      ]
    },
    {
      "cell_type": "markdown",
      "source": [
        "## Can we say that if a user has a low number of pageviews then they likely have a low number of commits?"
      ],
      "metadata": {
        "id": "t9FAq1SeBlu7"
      }
    },
    {
      "cell_type": "markdown",
      "source": [
        "## Can we say that if a user has a low number of pageviews then they likely have a small average difference between the first commit and the lab deadline?"
      ],
      "metadata": {
        "id": "FG6owSe4MRsG"
      }
    },
    {
      "cell_type": "markdown",
      "source": [
        "## Can we say that there are many users with a low number of commits and a few with a high number of commits?"
      ],
      "metadata": {
        "id": "K-bNU9-JMUDm"
      }
    },
    {
      "cell_type": "markdown",
      "source": [
        "## Can we say that there are many users with a small average difference and a few with a large average difference"
      ],
      "metadata": {
        "id": "ZRbIEa_NMYus"
      }
    }
  ]
}