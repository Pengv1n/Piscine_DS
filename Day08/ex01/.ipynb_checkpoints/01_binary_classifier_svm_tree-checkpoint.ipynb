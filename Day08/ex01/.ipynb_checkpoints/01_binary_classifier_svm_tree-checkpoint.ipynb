{
 "cells": [
  {
   "cell_type": "markdown",
   "metadata": {
    "id": "ECOaITJl1lsl"
   },
   "source": [
    "# Day 08. Exercise 01\n",
    "# Binary classifier. SVM. Decision tree"
   ]
  },
  {
   "cell_type": "markdown",
   "metadata": {
    "id": "wbWukGpy1ls6"
   },
   "source": [
    "## 0. Imports"
   ]
  },
  {
   "cell_type": "code",
   "execution_count": 74,
   "metadata": {
    "id": "nid_Dodf1ltE"
   },
   "outputs": [],
   "source": [
    "import pandas as pd\n",
    "import numpy as np\n",
    "from sklearn.linear_model import LogisticRegression\n",
    "import matplotlib.pyplot as plt\n",
    "from sklearn.preprocessing import StandardScaler\n",
    "from sklearn.metrics import accuracy_score\n",
    "from sklearn.svm import SVC\n",
    "from sklearn.model_selection import GridSearchCV\n",
    "from sklearn.tree import DecisionTreeClassifier, plot_tree"
   ]
  },
  {
   "cell_type": "markdown",
   "metadata": {
    "id": "eHx-rHhA1ltG"
   },
   "source": [
    "## 1. Preprocessing and logreg visualization"
   ]
  },
  {
   "cell_type": "markdown",
   "metadata": {
    "id": "apFtywwy1ltI"
   },
   "source": [
    "Read the file `am_pm.csv` to a dataframe from the previous exercise."
   ]
  },
  {
   "cell_type": "markdown",
   "metadata": {
    "id": "oKzCcc401ltJ"
   },
   "source": [
    "1. Draw a plot where the x-axis is `am`, the y-axis is `pm`, dots are the days, color depends on the target.\n",
    "2. Add the decision boundary of logistic regression to the plot.\n",
    "3. Draw the same plot (with the boundary), but the color should depend this time on the predictions.\n",
    "\n",
    "Now it should be clear for you how the logistic regression works."
   ]
  },
  {
   "cell_type": "code",
   "execution_count": 31,
   "metadata": {
    "colab": {
     "base_uri": "https://localhost:8080/",
     "height": 206
    },
    "id": "SdqDy-pH1ltV",
    "outputId": "169438f4-1c45-471b-ca2e-ee42af3e6907"
   },
   "outputs": [
    {
     "data": {
      "text/html": [
       "\n",
       "  <div id=\"df-0f3ec7cc-db49-4f8f-ad15-12aac1285250\">\n",
       "    <div class=\"colab-df-container\">\n",
       "      <div>\n",
       "<style scoped>\n",
       "    .dataframe tbody tr th:only-of-type {\n",
       "        vertical-align: middle;\n",
       "    }\n",
       "\n",
       "    .dataframe tbody tr th {\n",
       "        vertical-align: top;\n",
       "    }\n",
       "\n",
       "    .dataframe thead th {\n",
       "        text-align: right;\n",
       "    }\n",
       "</style>\n",
       "<table border=\"1\" class=\"dataframe\">\n",
       "  <thead>\n",
       "    <tr style=\"text-align: right;\">\n",
       "      <th></th>\n",
       "      <th>date</th>\n",
       "      <th>am</th>\n",
       "      <th>pm</th>\n",
       "      <th>target</th>\n",
       "      <th>predict</th>\n",
       "    </tr>\n",
       "  </thead>\n",
       "  <tbody>\n",
       "    <tr>\n",
       "      <th>0</th>\n",
       "      <td>2020-04-17</td>\n",
       "      <td>21</td>\n",
       "      <td>2</td>\n",
       "      <td>working_day</td>\n",
       "      <td>weekend</td>\n",
       "    </tr>\n",
       "    <tr>\n",
       "      <th>1</th>\n",
       "      <td>2020-04-18</td>\n",
       "      <td>1</td>\n",
       "      <td>68</td>\n",
       "      <td>weekend</td>\n",
       "      <td>working_day</td>\n",
       "    </tr>\n",
       "    <tr>\n",
       "      <th>2</th>\n",
       "      <td>2020-04-19</td>\n",
       "      <td>18</td>\n",
       "      <td>15</td>\n",
       "      <td>weekend</td>\n",
       "      <td>working_day</td>\n",
       "    </tr>\n",
       "    <tr>\n",
       "      <th>3</th>\n",
       "      <td>2020-04-20</td>\n",
       "      <td>2</td>\n",
       "      <td>23</td>\n",
       "      <td>working_day</td>\n",
       "      <td>working_day</td>\n",
       "    </tr>\n",
       "    <tr>\n",
       "      <th>4</th>\n",
       "      <td>2020-04-21</td>\n",
       "      <td>0</td>\n",
       "      <td>25</td>\n",
       "      <td>working_day</td>\n",
       "      <td>working_day</td>\n",
       "    </tr>\n",
       "  </tbody>\n",
       "</table>\n",
       "</div>\n",
       "      <button class=\"colab-df-convert\" onclick=\"convertToInteractive('df-0f3ec7cc-db49-4f8f-ad15-12aac1285250')\"\n",
       "              title=\"Convert this dataframe to an interactive table.\"\n",
       "              style=\"display:none;\">\n",
       "        \n",
       "  <svg xmlns=\"http://www.w3.org/2000/svg\" height=\"24px\"viewBox=\"0 0 24 24\"\n",
       "       width=\"24px\">\n",
       "    <path d=\"M0 0h24v24H0V0z\" fill=\"none\"/>\n",
       "    <path d=\"M18.56 5.44l.94 2.06.94-2.06 2.06-.94-2.06-.94-.94-2.06-.94 2.06-2.06.94zm-11 1L8.5 8.5l.94-2.06 2.06-.94-2.06-.94L8.5 2.5l-.94 2.06-2.06.94zm10 10l.94 2.06.94-2.06 2.06-.94-2.06-.94-.94-2.06-.94 2.06-2.06.94z\"/><path d=\"M17.41 7.96l-1.37-1.37c-.4-.4-.92-.59-1.43-.59-.52 0-1.04.2-1.43.59L10.3 9.45l-7.72 7.72c-.78.78-.78 2.05 0 2.83L4 21.41c.39.39.9.59 1.41.59.51 0 1.02-.2 1.41-.59l7.78-7.78 2.81-2.81c.8-.78.8-2.07 0-2.86zM5.41 20L4 18.59l7.72-7.72 1.47 1.35L5.41 20z\"/>\n",
       "  </svg>\n",
       "      </button>\n",
       "      \n",
       "  <style>\n",
       "    .colab-df-container {\n",
       "      display:flex;\n",
       "      flex-wrap:wrap;\n",
       "      gap: 12px;\n",
       "    }\n",
       "\n",
       "    .colab-df-convert {\n",
       "      background-color: #E8F0FE;\n",
       "      border: none;\n",
       "      border-radius: 50%;\n",
       "      cursor: pointer;\n",
       "      display: none;\n",
       "      fill: #1967D2;\n",
       "      height: 32px;\n",
       "      padding: 0 0 0 0;\n",
       "      width: 32px;\n",
       "    }\n",
       "\n",
       "    .colab-df-convert:hover {\n",
       "      background-color: #E2EBFA;\n",
       "      box-shadow: 0px 1px 2px rgba(60, 64, 67, 0.3), 0px 1px 3px 1px rgba(60, 64, 67, 0.15);\n",
       "      fill: #174EA6;\n",
       "    }\n",
       "\n",
       "    [theme=dark] .colab-df-convert {\n",
       "      background-color: #3B4455;\n",
       "      fill: #D2E3FC;\n",
       "    }\n",
       "\n",
       "    [theme=dark] .colab-df-convert:hover {\n",
       "      background-color: #434B5C;\n",
       "      box-shadow: 0px 1px 3px 1px rgba(0, 0, 0, 0.15);\n",
       "      filter: drop-shadow(0px 1px 2px rgba(0, 0, 0, 0.3));\n",
       "      fill: #FFFFFF;\n",
       "    }\n",
       "  </style>\n",
       "\n",
       "      <script>\n",
       "        const buttonEl =\n",
       "          document.querySelector('#df-0f3ec7cc-db49-4f8f-ad15-12aac1285250 button.colab-df-convert');\n",
       "        buttonEl.style.display =\n",
       "          google.colab.kernel.accessAllowed ? 'block' : 'none';\n",
       "\n",
       "        async function convertToInteractive(key) {\n",
       "          const element = document.querySelector('#df-0f3ec7cc-db49-4f8f-ad15-12aac1285250');\n",
       "          const dataTable =\n",
       "            await google.colab.kernel.invokeFunction('convertToInteractive',\n",
       "                                                     [key], {});\n",
       "          if (!dataTable) return;\n",
       "\n",
       "          const docLinkHtml = 'Like what you see? Visit the ' +\n",
       "            '<a target=\"_blank\" href=https://colab.research.google.com/notebooks/data_table.ipynb>data table notebook</a>'\n",
       "            + ' to learn more about interactive tables.';\n",
       "          element.innerHTML = '';\n",
       "          dataTable['output_type'] = 'display_data';\n",
       "          await google.colab.output.renderOutput(dataTable, element);\n",
       "          const docLink = document.createElement('div');\n",
       "          docLink.innerHTML = docLinkHtml;\n",
       "          element.appendChild(docLink);\n",
       "        }\n",
       "      </script>\n",
       "    </div>\n",
       "  </div>\n",
       "  "
      ],
      "text/plain": [
       "         date  am  pm       target      predict\n",
       "0  2020-04-17  21   2  working_day      weekend\n",
       "1  2020-04-18   1  68      weekend  working_day\n",
       "2  2020-04-19  18  15      weekend  working_day\n",
       "3  2020-04-20   2  23  working_day  working_day\n",
       "4  2020-04-21   0  25  working_day  working_day"
      ]
     },
     "execution_count": 31,
     "metadata": {},
     "output_type": "execute_result"
    }
   ],
   "source": [
    "df = pd.read_csv(\"../data/am_pm.csv\")\n",
    "df.head()"
   ]
  },
  {
   "cell_type": "code",
   "execution_count": null,
   "metadata": {
    "colab": {
     "base_uri": "https://localhost:8080/"
    },
    "id": "nZdpbU4r1ltX",
    "outputId": "7ae01de8-3305-4120-d48f-548b63ca3341"
   },
   "outputs": [
    {
     "data": {
      "text/plain": [
       "LogisticRegression(fit_intercept=False, random_state=21)"
      ]
     },
     "execution_count": 9,
     "metadata": {},
     "output_type": "execute_result"
    }
   ],
   "source": [
    "X = df[['am', 'pm']]\n",
    "Y = np.where(df['target'] == 'working_day', 0, 1)\n",
    "log_reg = LogisticRegression(random_state=21, fit_intercept=False)\n",
    "log_reg.fit(X, Y)"
   ]
  },
  {
   "cell_type": "code",
   "execution_count": null,
   "metadata": {
    "id": "Cpap0Sfx1ltb"
   },
   "outputs": [],
   "source": [
    "x_plot = np.array([min(df['am']) - 2, max(df['am']) + 2])\n",
    "y_plot = (-1 / log_reg.coef_[0][1]) * log_reg.coef_[0][0] * x_plot"
   ]
  },
  {
   "cell_type": "code",
   "execution_count": 38,
   "metadata": {
    "colab": {
     "base_uri": "https://localhost:8080/",
     "height": 510
    },
    "id": "CshG-4Df1ltc",
    "outputId": "3792ad0c-dfc9-4eaa-fedf-b4f9cc571a9c"
   },
   "outputs": [
    {
     "data": {
      "image/png": "[encoded data removed]",
      "text/plain": [
       "<Figure size 1080x576 with 1 Axes>"
      ]
     },
     "metadata": {
      "needs_background": "light"
     },
     "output_type": "display_data"
    }
   ],
   "source": [
    "fig, ax = plt.subplots(figsize=(15, 8))\n",
    "ax.scatter(x=df.loc[df['target'] == 'working_day']['am'],\n",
    "           y=df.loc[df['target'] == 'working_day']['pm'],\n",
    "           color='green', label='working_day')\n",
    "ax.scatter(x=df.loc[df['target'] == 'weekend']['am'],\n",
    "           y=df.loc[df['target'] == 'weekend']['pm'],\n",
    "           color='blue', label='weekend')\n",
    "ax.plot(x_plot, y_plot, label='decision boundary', color='red')\n",
    "ax.set_title('Logistic regression', fontsize='10')\n",
    "ax.set_xlabel('am', fontsize='8')\n",
    "ax.set_ylabel('pm', fontsize='8')\n",
    "ax.legend(loc='best', fontsize='8')\n",
    "y_min, y_max = df.loc[df['predict'] == 'weekend']['pm'].values.min() - 50, df.loc[df['predict'] == 'working_day']['pm'].values.max() + 50\n",
    "plt.fill_between(x_plot, y_plot, y_min, color='tab:blue', alpha=0.5)\n",
    "plt.fill_between(x_plot, y_plot, y_max, color='tab:green', alpha=0.5)\n",
    "plt.grid()\n",
    "plt.show()"
   ]
  },
  {
   "cell_type": "code",
   "execution_count": 37,
   "metadata": {
    "colab": {
     "base_uri": "https://localhost:8080/",
     "height": 510
    },
    "id": "3x8wdeNc1ltd",
    "outputId": "c2323ade-5fcb-462e-cda1-969ebe88fde5"
   },
   "outputs": [
    {
     "data": {
      "image/png": "[encoded data removed]",
      "text/plain": [
       "<Figure size 1080x576 with 1 Axes>"
      ]
     },
     "metadata": {
      "needs_background": "light"
     },
     "output_type": "display_data"
    }
   ],
   "source": [
    "fig, ax = plt.subplots(figsize=(15, 8))\n",
    "ax.scatter(x=df.loc[df['predict'] == 'working_day']['am'],\n",
    "           y=df.loc[df['predict'] == 'working_day']['pm'],\n",
    "           color='green', label='working_day')\n",
    "ax.scatter(x=df.loc[df['predict'] == 'weekend']['am'],\n",
    "           y=df.loc[df['predict'] == 'weekend']['pm'],\n",
    "           color='blue', label='weekend')\n",
    "ax.plot(x_plot, y_plot, label='decision boundary', color='red')\n",
    "ax.set_title('Logistic regression predictions', fontsize='10')\n",
    "ax.set_xlabel('am', fontsize='8')\n",
    "ax.set_ylabel('pm', fontsize='8')\n",
    "ax.legend(loc='best', fontsize='8')\n",
    "y_min, y_max = df.loc[df['predict'] == 'weekend']['pm'].values.min() - 50, df.loc[df['predict'] == 'working_day']['pm'].values.max() + 50\n",
    "plt.fill_between(x_plot, y_plot, y_min, color='tab:blue', alpha=0.5)\n",
    "plt.fill_between(x_plot, y_plot, y_max, color='tab:green', alpha=0.5)\n",
    "plt.grid()\n",
    "plt.show()"
   ]
  },
  {
   "cell_type": "markdown",
   "metadata": {
    "id": "1QXxBdqn1ltq"
   },
   "source": [
    "## 2. Standardizing and logreg"
   ]
  },
  {
   "cell_type": "markdown",
   "metadata": {
    "id": "4UyNLjBO1ltr"
   },
   "source": [
    "Linear models can be sensitive to the scale of your variables. You make it easier for them to find the optimal solution when you scale your features.\n",
    "\n",
    "1. Apply `StandardScaler` to `X` and train logistic regression again with the same parameters.\n",
    "2. Calculate `accuracy` for the new model. Did it get better than a naive classifier with the most popular class?\n",
    "3. Draw the plots that were described above but for the new model."
   ]
  },
  {
   "cell_type": "code",
   "execution_count": 42,
   "metadata": {
    "colab": {
     "base_uri": "https://localhost:8080/",
     "height": 206
    },
    "id": "sWsNrcxq1ltv",
    "outputId": "fe4fb291-c234-4139-fb76-db1f4b59fa13"
   },
   "outputs": [
    {
     "data": {
      "text/html": [
       "\n",
       "  <div id=\"df-bdede623-d385-4624-8de2-82937710df25\">\n",
       "    <div class=\"colab-df-container\">\n",
       "      <div>\n",
       "<style scoped>\n",
       "    .dataframe tbody tr th:only-of-type {\n",
       "        vertical-align: middle;\n",
       "    }\n",
       "\n",
       "    .dataframe tbody tr th {\n",
       "        vertical-align: top;\n",
       "    }\n",
       "\n",
       "    .dataframe thead th {\n",
       "        text-align: right;\n",
       "    }\n",
       "</style>\n",
       "<table border=\"1\" class=\"dataframe\">\n",
       "  <thead>\n",
       "    <tr style=\"text-align: right;\">\n",
       "      <th></th>\n",
       "      <th>date</th>\n",
       "      <th>am</th>\n",
       "      <th>pm</th>\n",
       "      <th>target</th>\n",
       "      <th>predict</th>\n",
       "    </tr>\n",
       "  </thead>\n",
       "  <tbody>\n",
       "    <tr>\n",
       "      <th>0</th>\n",
       "      <td>2020-04-17</td>\n",
       "      <td>0.200690</td>\n",
       "      <td>-0.719904</td>\n",
       "      <td>working_day</td>\n",
       "      <td>weekend</td>\n",
       "    </tr>\n",
       "    <tr>\n",
       "      <th>1</th>\n",
       "      <td>2020-04-18</td>\n",
       "      <td>-0.655914</td>\n",
       "      <td>-0.071822</td>\n",
       "      <td>weekend</td>\n",
       "      <td>working_day</td>\n",
       "    </tr>\n",
       "    <tr>\n",
       "      <th>2</th>\n",
       "      <td>2020-04-19</td>\n",
       "      <td>0.072199</td>\n",
       "      <td>-0.592251</td>\n",
       "      <td>weekend</td>\n",
       "      <td>working_day</td>\n",
       "    </tr>\n",
       "    <tr>\n",
       "      <th>3</th>\n",
       "      <td>2020-04-20</td>\n",
       "      <td>-0.613084</td>\n",
       "      <td>-0.513696</td>\n",
       "      <td>working_day</td>\n",
       "      <td>working_day</td>\n",
       "    </tr>\n",
       "    <tr>\n",
       "      <th>4</th>\n",
       "      <td>2020-04-21</td>\n",
       "      <td>-0.698744</td>\n",
       "      <td>-0.494057</td>\n",
       "      <td>working_day</td>\n",
       "      <td>working_day</td>\n",
       "    </tr>\n",
       "  </tbody>\n",
       "</table>\n",
       "</div>\n",
       "      <button class=\"colab-df-convert\" onclick=\"convertToInteractive('df-bdede623-d385-4624-8de2-82937710df25')\"\n",
       "              title=\"Convert this dataframe to an interactive table.\"\n",
       "              style=\"display:none;\">\n",
       "        \n",
       "  <svg xmlns=\"http://www.w3.org/2000/svg\" height=\"24px\"viewBox=\"0 0 24 24\"\n",
       "       width=\"24px\">\n",
       "    <path d=\"M0 0h24v24H0V0z\" fill=\"none\"/>\n",
       "    <path d=\"M18.56 5.44l.94 2.06.94-2.06 2.06-.94-2.06-.94-.94-2.06-.94 2.06-2.06.94zm-11 1L8.5 8.5l.94-2.06 2.06-.94-2.06-.94L8.5 2.5l-.94 2.06-2.06.94zm10 10l.94 2.06.94-2.06 2.06-.94-2.06-.94-.94-2.06-.94 2.06-2.06.94z\"/><path d=\"M17.41 7.96l-1.37-1.37c-.4-.4-.92-.59-1.43-.59-.52 0-1.04.2-1.43.59L10.3 9.45l-7.72 7.72c-.78.78-.78 2.05 0 2.83L4 21.41c.39.39.9.59 1.41.59.51 0 1.02-.2 1.41-.59l7.78-7.78 2.81-2.81c.8-.78.8-2.07 0-2.86zM5.41 20L4 18.59l7.72-7.72 1.47 1.35L5.41 20z\"/>\n",
       "  </svg>\n",
       "      </button>\n",
       "      \n",
       "  <style>\n",
       "    .colab-df-container {\n",
       "      display:flex;\n",
       "      flex-wrap:wrap;\n",
       "      gap: 12px;\n",
       "    }\n",
       "\n",
       "    .colab-df-convert {\n",
       "      background-color: #E8F0FE;\n",
       "      border: none;\n",
       "      border-radius: 50%;\n",
       "      cursor: pointer;\n",
       "      display: none;\n",
       "      fill: #1967D2;\n",
       "      height: 32px;\n",
       "      padding: 0 0 0 0;\n",
       "      width: 32px;\n",
       "    }\n",
       "\n",
       "    .colab-df-convert:hover {\n",
       "      background-color: #E2EBFA;\n",
       "      box-shadow: 0px 1px 2px rgba(60, 64, 67, 0.3), 0px 1px 3px 1px rgba(60, 64, 67, 0.15);\n",
       "      fill: #174EA6;\n",
       "    }\n",
       "\n",
       "    [theme=dark] .colab-df-convert {\n",
       "      background-color: #3B4455;\n",
       "      fill: #D2E3FC;\n",
       "    }\n",
       "\n",
       "    [theme=dark] .colab-df-convert:hover {\n",
       "      background-color: #434B5C;\n",
       "      box-shadow: 0px 1px 3px 1px rgba(0, 0, 0, 0.15);\n",
       "      filter: drop-shadow(0px 1px 2px rgba(0, 0, 0, 0.3));\n",
       "      fill: #FFFFFF;\n",
       "    }\n",
       "  </style>\n",
       "\n",
       "      <script>\n",
       "        const buttonEl =\n",
       "          document.querySelector('#df-bdede623-d385-4624-8de2-82937710df25 button.colab-df-convert');\n",
       "        buttonEl.style.display =\n",
       "          google.colab.kernel.accessAllowed ? 'block' : 'none';\n",
       "\n",
       "        async function convertToInteractive(key) {\n",
       "          const element = document.querySelector('#df-bdede623-d385-4624-8de2-82937710df25');\n",
       "          const dataTable =\n",
       "            await google.colab.kernel.invokeFunction('convertToInteractive',\n",
       "                                                     [key], {});\n",
       "          if (!dataTable) return;\n",
       "\n",
       "          const docLinkHtml = 'Like what you see? Visit the ' +\n",
       "            '<a target=\"_blank\" href=https://colab.research.google.com/notebooks/data_table.ipynb>data table notebook</a>'\n",
       "            + ' to learn more about interactive tables.';\n",
       "          element.innerHTML = '';\n",
       "          dataTable['output_type'] = 'display_data';\n",
       "          await google.colab.output.renderOutput(dataTable, element);\n",
       "          const docLink = document.createElement('div');\n",
       "          docLink.innerHTML = docLinkHtml;\n",
       "          element.appendChild(docLink);\n",
       "        }\n",
       "      </script>\n",
       "    </div>\n",
       "  </div>\n",
       "  "
      ],
      "text/plain": [
       "         date        am        pm       target      predict\n",
       "0  2020-04-17  0.200690 -0.719904  working_day      weekend\n",
       "1  2020-04-18 -0.655914 -0.071822      weekend  working_day\n",
       "2  2020-04-19  0.072199 -0.592251      weekend  working_day\n",
       "3  2020-04-20 -0.613084 -0.513696  working_day  working_day\n",
       "4  2020-04-21 -0.698744 -0.494057  working_day  working_day"
      ]
     },
     "execution_count": 42,
     "metadata": {},
     "output_type": "execute_result"
    }
   ],
   "source": [
    "scaler = StandardScaler()\n",
    "df[['am', 'pm']] = scaler.fit_transform(X)\n",
    "df.head()"
   ]
  },
  {
   "cell_type": "code",
   "execution_count": 49,
   "metadata": {
    "colab": {
     "base_uri": "https://localhost:8080/"
    },
    "id": "7-rUsweh1ltw",
    "outputId": "69a92e84-16ff-4089-80f1-55a40145bcb1"
   },
   "outputs": [
    {
     "data": {
      "text/plain": [
       "LogisticRegression(fit_intercept=False, random_state=21)"
      ]
     },
     "execution_count": 49,
     "metadata": {},
     "output_type": "execute_result"
    }
   ],
   "source": [
    "X = df[['am', 'pm']]\n",
    "log_reg = LogisticRegression(random_state=21, fit_intercept=False)\n",
    "log_reg.fit(X, Y)"
   ]
  },
  {
   "cell_type": "code",
   "execution_count": 50,
   "metadata": {
    "colab": {
     "base_uri": "https://localhost:8080/",
     "height": 1000
    },
    "id": "E31sjBsP1ltw",
    "outputId": "9c0abcce-3ec4-4afa-d5c0-667044edd3ae"
   },
   "outputs": [
    {
     "data": {
      "text/html": [
       "\n",
       "  <div id=\"df-6caf8df2-e45a-45d1-b3c9-405a623c849c\">\n",
       "    <div class=\"colab-df-container\">\n",
       "      <div>\n",
       "<style scoped>\n",
       "    .dataframe tbody tr th:only-of-type {\n",
       "        vertical-align: middle;\n",
       "    }\n",
       "\n",
       "    .dataframe tbody tr th {\n",
       "        vertical-align: top;\n",
       "    }\n",
       "\n",
       "    .dataframe thead th {\n",
       "        text-align: right;\n",
       "    }\n",
       "</style>\n",
       "<table border=\"1\" class=\"dataframe\">\n",
       "  <thead>\n",
       "    <tr style=\"text-align: right;\">\n",
       "      <th></th>\n",
       "      <th>date</th>\n",
       "      <th>am</th>\n",
       "      <th>pm</th>\n",
       "      <th>target</th>\n",
       "      <th>predict</th>\n",
       "    </tr>\n",
       "  </thead>\n",
       "  <tbody>\n",
       "    <tr>\n",
       "      <th>0</th>\n",
       "      <td>2020-04-17</td>\n",
       "      <td>0.200690</td>\n",
       "      <td>-0.719904</td>\n",
       "      <td>working_day</td>\n",
       "      <td>working_day</td>\n",
       "    </tr>\n",
       "    <tr>\n",
       "      <th>1</th>\n",
       "      <td>2020-04-18</td>\n",
       "      <td>-0.655914</td>\n",
       "      <td>-0.071822</td>\n",
       "      <td>weekend</td>\n",
       "      <td>working_day</td>\n",
       "    </tr>\n",
       "    <tr>\n",
       "      <th>2</th>\n",
       "      <td>2020-04-19</td>\n",
       "      <td>0.072199</td>\n",
       "      <td>-0.592251</td>\n",
       "      <td>weekend</td>\n",
       "      <td>working_day</td>\n",
       "    </tr>\n",
       "    <tr>\n",
       "      <th>3</th>\n",
       "      <td>2020-04-20</td>\n",
       "      <td>-0.613084</td>\n",
       "      <td>-0.513696</td>\n",
       "      <td>working_day</td>\n",
       "      <td>working_day</td>\n",
       "    </tr>\n",
       "    <tr>\n",
       "      <th>4</th>\n",
       "      <td>2020-04-21</td>\n",
       "      <td>-0.698744</td>\n",
       "      <td>-0.494057</td>\n",
       "      <td>working_day</td>\n",
       "      <td>working_day</td>\n",
       "    </tr>\n",
       "    <tr>\n",
       "      <th>5</th>\n",
       "      <td>2020-04-22</td>\n",
       "      <td>-0.698744</td>\n",
       "      <td>-0.464599</td>\n",
       "      <td>working_day</td>\n",
       "      <td>working_day</td>\n",
       "    </tr>\n",
       "    <tr>\n",
       "      <th>6</th>\n",
       "      <td>2020-04-23</td>\n",
       "      <td>-0.270442</td>\n",
       "      <td>-0.415502</td>\n",
       "      <td>working_day</td>\n",
       "      <td>working_day</td>\n",
       "    </tr>\n",
       "    <tr>\n",
       "      <th>7</th>\n",
       "      <td>2020-04-24</td>\n",
       "      <td>-0.613084</td>\n",
       "      <td>-0.602071</td>\n",
       "      <td>working_day</td>\n",
       "      <td>working_day</td>\n",
       "    </tr>\n",
       "    <tr>\n",
       "      <th>8</th>\n",
       "      <td>2020-04-25</td>\n",
       "      <td>0.586162</td>\n",
       "      <td>-0.012906</td>\n",
       "      <td>weekend</td>\n",
       "      <td>weekend</td>\n",
       "    </tr>\n",
       "    <tr>\n",
       "      <th>9</th>\n",
       "      <td>2020-04-26</td>\n",
       "      <td>0.500501</td>\n",
       "      <td>1.548382</td>\n",
       "      <td>weekend</td>\n",
       "      <td>weekend</td>\n",
       "    </tr>\n",
       "    <tr>\n",
       "      <th>10</th>\n",
       "      <td>2020-04-27</td>\n",
       "      <td>-0.527423</td>\n",
       "      <td>-0.719904</td>\n",
       "      <td>working_day</td>\n",
       "      <td>working_day</td>\n",
       "    </tr>\n",
       "    <tr>\n",
       "      <th>11</th>\n",
       "      <td>2020-04-28</td>\n",
       "      <td>-0.527423</td>\n",
       "      <td>-0.729723</td>\n",
       "      <td>working_day</td>\n",
       "      <td>working_day</td>\n",
       "    </tr>\n",
       "    <tr>\n",
       "      <th>12</th>\n",
       "      <td>2020-04-29</td>\n",
       "      <td>-0.698744</td>\n",
       "      <td>-0.572612</td>\n",
       "      <td>working_day</td>\n",
       "      <td>working_day</td>\n",
       "    </tr>\n",
       "    <tr>\n",
       "      <th>13</th>\n",
       "      <td>2020-04-30</td>\n",
       "      <td>-0.141951</td>\n",
       "      <td>-0.346766</td>\n",
       "      <td>working_day</td>\n",
       "      <td>working_day</td>\n",
       "    </tr>\n",
       "    <tr>\n",
       "      <th>14</th>\n",
       "      <td>2020-05-01</td>\n",
       "      <td>-0.356102</td>\n",
       "      <td>-0.228933</td>\n",
       "      <td>working_day</td>\n",
       "      <td>working_day</td>\n",
       "    </tr>\n",
       "    <tr>\n",
       "      <th>15</th>\n",
       "      <td>2020-05-02</td>\n",
       "      <td>3.198804</td>\n",
       "      <td>0.743190</td>\n",
       "      <td>weekend</td>\n",
       "      <td>weekend</td>\n",
       "    </tr>\n",
       "    <tr>\n",
       "      <th>16</th>\n",
       "      <td>2020-05-03</td>\n",
       "      <td>1.314275</td>\n",
       "      <td>0.566440</td>\n",
       "      <td>weekend</td>\n",
       "      <td>weekend</td>\n",
       "    </tr>\n",
       "    <tr>\n",
       "      <th>17</th>\n",
       "      <td>2020-05-04</td>\n",
       "      <td>-0.227612</td>\n",
       "      <td>-0.484238</td>\n",
       "      <td>working_day</td>\n",
       "      <td>working_day</td>\n",
       "    </tr>\n",
       "    <tr>\n",
       "      <th>18</th>\n",
       "      <td>2020-05-05</td>\n",
       "      <td>2.770502</td>\n",
       "      <td>-0.170016</td>\n",
       "      <td>working_day</td>\n",
       "      <td>weekend</td>\n",
       "    </tr>\n",
       "    <tr>\n",
       "      <th>19</th>\n",
       "      <td>2020-05-06</td>\n",
       "      <td>-0.613084</td>\n",
       "      <td>-0.739542</td>\n",
       "      <td>working_day</td>\n",
       "      <td>working_day</td>\n",
       "    </tr>\n",
       "    <tr>\n",
       "      <th>20</th>\n",
       "      <td>2020-05-07</td>\n",
       "      <td>-0.099121</td>\n",
       "      <td>-0.366405</td>\n",
       "      <td>working_day</td>\n",
       "      <td>working_day</td>\n",
       "    </tr>\n",
       "    <tr>\n",
       "      <th>21</th>\n",
       "      <td>2020-05-08</td>\n",
       "      <td>-0.570253</td>\n",
       "      <td>0.085289</td>\n",
       "      <td>working_day</td>\n",
       "      <td>working_day</td>\n",
       "    </tr>\n",
       "    <tr>\n",
       "      <th>22</th>\n",
       "      <td>2020-05-09</td>\n",
       "      <td>-0.698744</td>\n",
       "      <td>0.104928</td>\n",
       "      <td>weekend</td>\n",
       "      <td>working_day</td>\n",
       "    </tr>\n",
       "    <tr>\n",
       "      <th>23</th>\n",
       "      <td>2020-05-10</td>\n",
       "      <td>-0.270442</td>\n",
       "      <td>0.566440</td>\n",
       "      <td>weekend</td>\n",
       "      <td>working_day</td>\n",
       "    </tr>\n",
       "    <tr>\n",
       "      <th>24</th>\n",
       "      <td>2020-05-11</td>\n",
       "      <td>-0.570253</td>\n",
       "      <td>1.057411</td>\n",
       "      <td>working_day</td>\n",
       "      <td>working_day</td>\n",
       "    </tr>\n",
       "    <tr>\n",
       "      <th>25</th>\n",
       "      <td>2020-05-12</td>\n",
       "      <td>1.699747</td>\n",
       "      <td>1.882242</td>\n",
       "      <td>working_day</td>\n",
       "      <td>weekend</td>\n",
       "    </tr>\n",
       "    <tr>\n",
       "      <th>26</th>\n",
       "      <td>2020-05-13</td>\n",
       "      <td>-0.441763</td>\n",
       "      <td>1.273438</td>\n",
       "      <td>working_day</td>\n",
       "      <td>working_day</td>\n",
       "    </tr>\n",
       "    <tr>\n",
       "      <th>27</th>\n",
       "      <td>2020-05-14</td>\n",
       "      <td>2.128049</td>\n",
       "      <td>4.258542</td>\n",
       "      <td>working_day</td>\n",
       "      <td>weekend</td>\n",
       "    </tr>\n",
       "    <tr>\n",
       "      <th>28</th>\n",
       "      <td>2020-05-15</td>\n",
       "      <td>-0.270442</td>\n",
       "      <td>-0.739542</td>\n",
       "      <td>working_day</td>\n",
       "      <td>working_day</td>\n",
       "    </tr>\n",
       "    <tr>\n",
       "      <th>29</th>\n",
       "      <td>2020-05-16</td>\n",
       "      <td>-0.698744</td>\n",
       "      <td>-0.700265</td>\n",
       "      <td>weekend</td>\n",
       "      <td>working_day</td>\n",
       "    </tr>\n",
       "    <tr>\n",
       "      <th>30</th>\n",
       "      <td>2020-05-17</td>\n",
       "      <td>-0.613084</td>\n",
       "      <td>-0.287849</td>\n",
       "      <td>weekend</td>\n",
       "      <td>working_day</td>\n",
       "    </tr>\n",
       "    <tr>\n",
       "      <th>31</th>\n",
       "      <td>2020-05-18</td>\n",
       "      <td>-0.698744</td>\n",
       "      <td>-0.710084</td>\n",
       "      <td>working_day</td>\n",
       "      <td>working_day</td>\n",
       "    </tr>\n",
       "    <tr>\n",
       "      <th>32</th>\n",
       "      <td>2020-05-19</td>\n",
       "      <td>0.157860</td>\n",
       "      <td>-0.602071</td>\n",
       "      <td>working_day</td>\n",
       "      <td>working_day</td>\n",
       "    </tr>\n",
       "    <tr>\n",
       "      <th>33</th>\n",
       "      <td>2020-05-20</td>\n",
       "      <td>-0.398933</td>\n",
       "      <td>-0.533335</td>\n",
       "      <td>working_day</td>\n",
       "      <td>working_day</td>\n",
       "    </tr>\n",
       "    <tr>\n",
       "      <th>34</th>\n",
       "      <td>2020-05-21</td>\n",
       "      <td>-0.655914</td>\n",
       "      <td>-0.268210</td>\n",
       "      <td>working_day</td>\n",
       "      <td>working_day</td>\n",
       "    </tr>\n",
       "  </tbody>\n",
       "</table>\n",
       "</div>\n",
       "      <button class=\"colab-df-convert\" onclick=\"convertToInteractive('df-6caf8df2-e45a-45d1-b3c9-405a623c849c')\"\n",
       "              title=\"Convert this dataframe to an interactive table.\"\n",
       "              style=\"display:none;\">\n",
       "        \n",
       "  <svg xmlns=\"http://www.w3.org/2000/svg\" height=\"24px\"viewBox=\"0 0 24 24\"\n",
       "       width=\"24px\">\n",
       "    <path d=\"M0 0h24v24H0V0z\" fill=\"none\"/>\n",
       "    <path d=\"M18.56 5.44l.94 2.06.94-2.06 2.06-.94-2.06-.94-.94-2.06-.94 2.06-2.06.94zm-11 1L8.5 8.5l.94-2.06 2.06-.94-2.06-.94L8.5 2.5l-.94 2.06-2.06.94zm10 10l.94 2.06.94-2.06 2.06-.94-2.06-.94-.94-2.06-.94 2.06-2.06.94z\"/><path d=\"M17.41 7.96l-1.37-1.37c-.4-.4-.92-.59-1.43-.59-.52 0-1.04.2-1.43.59L10.3 9.45l-7.72 7.72c-.78.78-.78 2.05 0 2.83L4 21.41c.39.39.9.59 1.41.59.51 0 1.02-.2 1.41-.59l7.78-7.78 2.81-2.81c.8-.78.8-2.07 0-2.86zM5.41 20L4 18.59l7.72-7.72 1.47 1.35L5.41 20z\"/>\n",
       "  </svg>\n",
       "      </button>\n",
       "      \n",
       "  <style>\n",
       "    .colab-df-container {\n",
       "      display:flex;\n",
       "      flex-wrap:wrap;\n",
       "      gap: 12px;\n",
       "    }\n",
       "\n",
       "    .colab-df-convert {\n",
       "      background-color: #E8F0FE;\n",
       "      border: none;\n",
       "      border-radius: 50%;\n",
       "      cursor: pointer;\n",
       "      display: none;\n",
       "      fill: #1967D2;\n",
       "      height: 32px;\n",
       "      padding: 0 0 0 0;\n",
       "      width: 32px;\n",
       "    }\n",
       "\n",
       "    .colab-df-convert:hover {\n",
       "      background-color: #E2EBFA;\n",
       "      box-shadow: 0px 1px 2px rgba(60, 64, 67, 0.3), 0px 1px 3px 1px rgba(60, 64, 67, 0.15);\n",
       "      fill: #174EA6;\n",
       "    }\n",
       "\n",
       "    [theme=dark] .colab-df-convert {\n",
       "      background-color: #3B4455;\n",
       "      fill: #D2E3FC;\n",
       "    }\n",
       "\n",
       "    [theme=dark] .colab-df-convert:hover {\n",
       "      background-color: #434B5C;\n",
       "      box-shadow: 0px 1px 3px 1px rgba(0, 0, 0, 0.15);\n",
       "      filter: drop-shadow(0px 1px 2px rgba(0, 0, 0, 0.3));\n",
       "      fill: #FFFFFF;\n",
       "    }\n",
       "  </style>\n",
       "\n",
       "      <script>\n",
       "        const buttonEl =\n",
       "          document.querySelector('#df-6caf8df2-e45a-45d1-b3c9-405a623c849c button.colab-df-convert');\n",
       "        buttonEl.style.display =\n",
       "          google.colab.kernel.accessAllowed ? 'block' : 'none';\n",
       "\n",
       "        async function convertToInteractive(key) {\n",
       "          const element = document.querySelector('#df-6caf8df2-e45a-45d1-b3c9-405a623c849c');\n",
       "          const dataTable =\n",
       "            await google.colab.kernel.invokeFunction('convertToInteractive',\n",
       "                                                     [key], {});\n",
       "          if (!dataTable) return;\n",
       "\n",
       "          const docLinkHtml = 'Like what you see? Visit the ' +\n",
       "            '<a target=\"_blank\" href=https://colab.research.google.com/notebooks/data_table.ipynb>data table notebook</a>'\n",
       "            + ' to learn more about interactive tables.';\n",
       "          element.innerHTML = '';\n",
       "          dataTable['output_type'] = 'display_data';\n",
       "          await google.colab.output.renderOutput(dataTable, element);\n",
       "          const docLink = document.createElement('div');\n",
       "          docLink.innerHTML = docLinkHtml;\n",
       "          element.appendChild(docLink);\n",
       "        }\n",
       "      </script>\n",
       "    </div>\n",
       "  </div>\n",
       "  "
      ],
      "text/plain": [
       "          date        am        pm       target      predict\n",
       "0   2020-04-17  0.200690 -0.719904  working_day  working_day\n",
       "1   2020-04-18 -0.655914 -0.071822      weekend  working_day\n",
       "2   2020-04-19  0.072199 -0.592251      weekend  working_day\n",
       "3   2020-04-20 -0.613084 -0.513696  working_day  working_day\n",
       "4   2020-04-21 -0.698744 -0.494057  working_day  working_day\n",
       "5   2020-04-22 -0.698744 -0.464599  working_day  working_day\n",
       "6   2020-04-23 -0.270442 -0.415502  working_day  working_day\n",
       "7   2020-04-24 -0.613084 -0.602071  working_day  working_day\n",
       "8   2020-04-25  0.586162 -0.012906      weekend      weekend\n",
       "9   2020-04-26  0.500501  1.548382      weekend      weekend\n",
       "10  2020-04-27 -0.527423 -0.719904  working_day  working_day\n",
       "11  2020-04-28 -0.527423 -0.729723  working_day  working_day\n",
       "12  2020-04-29 -0.698744 -0.572612  working_day  working_day\n",
       "13  2020-04-30 -0.141951 -0.346766  working_day  working_day\n",
       "14  2020-05-01 -0.356102 -0.228933  working_day  working_day\n",
       "15  2020-05-02  3.198804  0.743190      weekend      weekend\n",
       "16  2020-05-03  1.314275  0.566440      weekend      weekend\n",
       "17  2020-05-04 -0.227612 -0.484238  working_day  working_day\n",
       "18  2020-05-05  2.770502 -0.170016  working_day      weekend\n",
       "19  2020-05-06 -0.613084 -0.739542  working_day  working_day\n",
       "20  2020-05-07 -0.099121 -0.366405  working_day  working_day\n",
       "21  2020-05-08 -0.570253  0.085289  working_day  working_day\n",
       "22  2020-05-09 -0.698744  0.104928      weekend  working_day\n",
       "23  2020-05-10 -0.270442  0.566440      weekend  working_day\n",
       "24  2020-05-11 -0.570253  1.057411  working_day  working_day\n",
       "25  2020-05-12  1.699747  1.882242  working_day      weekend\n",
       "26  2020-05-13 -0.441763  1.273438  working_day  working_day\n",
       "27  2020-05-14  2.128049  4.258542  working_day      weekend\n",
       "28  2020-05-15 -0.270442 -0.739542  working_day  working_day\n",
       "29  2020-05-16 -0.698744 -0.700265      weekend  working_day\n",
       "30  2020-05-17 -0.613084 -0.287849      weekend  working_day\n",
       "31  2020-05-18 -0.698744 -0.710084  working_day  working_day\n",
       "32  2020-05-19  0.157860 -0.602071  working_day  working_day\n",
       "33  2020-05-20 -0.398933 -0.533335  working_day  working_day\n",
       "34  2020-05-21 -0.655914 -0.268210  working_day  working_day"
      ]
     },
     "execution_count": 50,
     "metadata": {},
     "output_type": "execute_result"
    }
   ],
   "source": [
    "y_pred = log_reg.predict(X)\n",
    "df['predict'] = np.where(y_pred == 0, 'working_day', 'weekend')\n",
    "df"
   ]
  },
  {
   "cell_type": "code",
   "execution_count": 51,
   "metadata": {
    "colab": {
     "base_uri": "https://localhost:8080/"
    },
    "id": "JfLW4f_Y1lt3",
    "outputId": "205ab391-a277-493e-8857-8057154da7d1"
   },
   "outputs": [
    {
     "data": {
      "text/plain": [
       "0.7428571428571429"
      ]
     },
     "execution_count": 51,
     "metadata": {},
     "output_type": "execute_result"
    }
   ],
   "source": [
    "accuracy_score(Y, y_pred)"
   ]
  },
  {
   "cell_type": "code",
   "execution_count": 52,
   "metadata": {
    "colab": {
     "base_uri": "https://localhost:8080/"
    },
    "id": "_VhrGUNZbfoB",
    "outputId": "170f4be8-83ac-4b4b-943f-ac1ee944eaf0"
   },
   "outputs": [
    {
     "data": {
      "text/plain": [
       "0.7142857142857143"
      ]
     },
     "execution_count": 52,
     "metadata": {},
     "output_type": "execute_result"
    }
   ],
   "source": [
    "y_pred_naive = np.array([np.argmax(np.bincount(Y))] * len(Y))\n",
    "accuracy_score(Y, y_pred_naive)"
   ]
  },
  {
   "cell_type": "code",
   "execution_count": 56,
   "metadata": {
    "id": "SRUrogMi1lt4"
   },
   "outputs": [],
   "source": [
    "x_plot = np.array([round(min(df['am']), 1), round(max(df['am']), 1)])\n",
    "y_plot = (-1 / log_reg.coef_[0][1]) * log_reg.coef_[0][0] * x_plot"
   ]
  },
  {
   "cell_type": "code",
   "execution_count": 61,
   "metadata": {
    "colab": {
     "base_uri": "https://localhost:8080/",
     "height": 510
    },
    "id": "PJu1-20Q1lt4",
    "outputId": "78071f9a-1602-4185-d21b-b5fb0db6e1ec"
   },
   "outputs": [
    {
     "data": {
      "image/png": "[encoded data removed]",
      "text/plain": [
       "<Figure size 1080x576 with 1 Axes>"
      ]
     },
     "metadata": {
      "needs_background": "light"
     },
     "output_type": "display_data"
    }
   ],
   "source": [
    "fig, ax = plt.subplots(figsize=(15, 8))\n",
    "ax.scatter(x=df.loc[df['target'] == 'working_day']['am'],\n",
    "           y=df.loc[df['target'] == 'working_day']['pm'],\n",
    "           color='green', label='working_day')\n",
    "ax.scatter(x=df.loc[df['target'] == 'weekend']['am'],\n",
    "           y=df.loc[df['target'] == 'weekend']['pm'],\n",
    "           color='blue', label='weekend')\n",
    "ax.plot(x_plot, y_plot, label='decision boundary')\n",
    "ax.set_title('Logistic regression', fontsize='10')\n",
    "ax.set_xlabel('am', fontsize='8')\n",
    "ax.set_ylabel('pm', fontsize='8')\n",
    "y_min, y_max = df.loc[df['predict'] == 'weekend']['pm'].values.min() - 50, df.loc[df['predict'] == 'working_day']['pm'].values.max() + 50\n",
    "plt.fill_between(x_plot, y_plot, y_max, color='tab:blue', alpha=0.5)\n",
    "plt.fill_between(x_plot, y_plot, y_min, color='tab:green', alpha=0.5)\n",
    "ax.legend(loc='best', fontsize='8')\n",
    "plt.show()"
   ]
  },
  {
   "cell_type": "code",
   "execution_count": 59,
   "metadata": {
    "colab": {
     "base_uri": "https://localhost:8080/",
     "height": 510
    },
    "id": "rjw9r_uu1lt4",
    "outputId": "c0ebb978-120e-430a-cd74-88397665e993"
   },
   "outputs": [
    {
     "data": {
      "image/png": "[encoded data removed]",
      "text/plain": [
       "<Figure size 1080x576 with 1 Axes>"
      ]
     },
     "metadata": {
      "needs_background": "light"
     },
     "output_type": "display_data"
    }
   ],
   "source": [
    "fig, ax = plt.subplots(figsize=(15, 8))\n",
    "ax.scatter(x=df.loc[df['predict'] == 'working_day']['am'],\n",
    "           y=df.loc[df['predict'] == 'working_day']['pm'],\n",
    "           color='green', label='working_day')\n",
    "ax.scatter(x=df.loc[df['predict'] == 'weekend']['am'],\n",
    "           y=df.loc[df['predict'] == 'weekend']['pm'],\n",
    "           color='blue', label='weekend')\n",
    "ax.plot(x_plot, y_plot, label='decision boundary')\n",
    "ax.set_title('Logistic regression predictions', fontsize='10')\n",
    "ax.set_xlabel('am', fontsize='8')\n",
    "ax.set_ylabel('pm', fontsize='8')\n",
    "y_min, y_max = df.loc[df['predict'] == 'weekend']['pm'].values.min() - 50, df.loc[df['predict'] == 'working_day']['pm'].values.max() + 50\n",
    "plt.fill_between(x_plot, y_plot, y_max, color='tab:blue', alpha=0.5)\n",
    "plt.fill_between(x_plot, y_plot, y_min, color='tab:green', alpha=0.5)\n",
    "ax.legend(loc='best', fontsize='8')\n",
    "plt.show()"
   ]
  },
  {
   "cell_type": "markdown",
   "metadata": {
    "id": "-FMh1YnW1lt5"
   },
   "source": [
    "## 3. SVM"
   ]
  },
  {
   "cell_type": "markdown",
   "metadata": {
    "id": "TbVIjOTM1lt6"
   },
   "source": [
    "1. Apply `SVC` model to the scaled dataframe using parameters `probability=True`, `random_state=21`.\n",
    "2. Calculate `accuracy`.\n",
    "3. Try different kernels, find the best in terms of accuracy.\n",
    "4. Draw both plots again with the decisions boundary to see how this algorithm works."
   ]
  },
  {
   "cell_type": "code",
   "execution_count": 66,
   "metadata": {
    "colab": {
     "base_uri": "https://localhost:8080/"
    },
    "id": "wIA5YXMU1lt7",
    "outputId": "35e8d37b-0458-4c66-de1f-253e9235c291"
   },
   "outputs": [
    {
     "data": {
      "text/plain": [
       "SVC(probability=True, random_state=21)"
      ]
     },
     "execution_count": 66,
     "metadata": {},
     "output_type": "execute_result"
    }
   ],
   "source": [
    "svc = SVC(probability=True, random_state=21)\n",
    "svc.fit(X, Y)"
   ]
  },
  {
   "cell_type": "code",
   "execution_count": 67,
   "metadata": {
    "colab": {
     "base_uri": "https://localhost:8080/"
    },
    "id": "l6FmSKYp1lt8",
    "outputId": "7ded7d56-b430-47a9-ebef-dbc793a029d1"
   },
   "outputs": [
    {
     "data": {
      "text/plain": [
       "0.7428571428571429"
      ]
     },
     "execution_count": 67,
     "metadata": {},
     "output_type": "execute_result"
    }
   ],
   "source": [
    "y_pred = svc.predict(X)\n",
    "df['predict'] = np.where(y_pred == 0, 'working_day', 'weekend')\n",
    "accuracy_score(Y, y_pred)"
   ]
  },
  {
   "cell_type": "code",
   "execution_count": 69,
   "metadata": {
    "colab": {
     "base_uri": "https://localhost:8080/"
    },
    "id": "OUGRNwLh1lt8",
    "outputId": "0382f2eb-d2f9-44f7-e9e5-6a08b9941ab1"
   },
   "outputs": [
    {
     "data": {
      "text/plain": [
       "{'kernel': 'poly'}"
      ]
     },
     "execution_count": 69,
     "metadata": {},
     "output_type": "execute_result"
    }
   ],
   "source": [
    "parameters = {'kernel': ('linear', 'rbf', 'poly', 'sigmoid')}\n",
    "gs = GridSearchCV(svc, parameters, scoring='accuracy')\n",
    "gs.fit(X, Y)\n",
    "gs.best_params_"
   ]
  },
  {
   "cell_type": "code",
   "execution_count": 71,
   "metadata": {
    "colab": {
     "base_uri": "https://localhost:8080/"
    },
    "id": "JlfVRKEL1lt8",
    "outputId": "3ee63d98-6bc7-4085-93e8-a0e44e4eb253"
   },
   "outputs": [
    {
     "data": {
      "text/plain": [
       "0.7428571428571429"
      ]
     },
     "execution_count": 71,
     "metadata": {},
     "output_type": "execute_result"
    }
   ],
   "source": [
    "y_pred = gs.predict(X)\n",
    "accuracy_score(Y, y_pred)"
   ]
  },
  {
   "cell_type": "code",
   "execution_count": 72,
   "metadata": {
    "colab": {
     "base_uri": "https://localhost:8080/",
     "height": 545
    },
    "id": "_1C36v381lt8",
    "outputId": "0bc8532a-6ba6-4d7a-97c1-33fb62ece17b"
   },
   "outputs": [
    {
     "name": "stderr",
     "output_type": "stream",
     "text": [
      "/usr/local/lib/python3.7/dist-packages/sklearn/base.py:451: UserWarning: X does not have valid feature names, but SVC was fitted with feature names\n",
      "  \"X does not have valid feature names, but\"\n"
     ]
    },
    {
     "data": {
      "image/png": "[encoded data removed]",
      "text/plain": [
       "<Figure size 1080x576 with 1 Axes>"
      ]
     },
     "metadata": {
      "needs_background": "light"
     },
     "output_type": "display_data"
    }
   ],
   "source": [
    "fig, ax = plt.subplots(figsize=(15, 8))\n",
    "ax.scatter(x=df.loc[df['target'] == 'working_day']['am'],\n",
    "           y=df.loc[df['target'] == 'working_day']['pm'],\n",
    "           color='green', label='working_day')\n",
    "ax.scatter(x=df.loc[df['target'] == 'weekend']['am'],\n",
    "           y=df.loc[df['target'] == 'weekend']['pm'],\n",
    "           color='blue', label='weekend')\n",
    "xlim = ax.get_xlim()\n",
    "ylim = ax.get_ylim()\n",
    "xx = np.linspace(xlim[0], xlim[1], 30)\n",
    "yy = np.linspace(ylim[0], ylim[1], 30)\n",
    "YY, XX = np.meshgrid(yy, xx)\n",
    "xy = np.vstack([XX.ravel(), YY.ravel()]).T\n",
    "Z = gs.best_estimator_.decision_function(xy).reshape(XX.shape)\n",
    "ax.pcolormesh(XX, YY, Z > 0, alpha=0.5, cmap='magma')\n",
    "ax.contour(XX, YY, Z, colors='k', levels=[-0.5, 0, 0.5],\n",
    "           linestyles=['--', '-', '--'])\n",
    "ax.set_title('SVC', fontsize='10')\n",
    "ax.set_xlabel('am', fontsize='8')\n",
    "ax.set_ylabel('pm', fontsize='8')\n",
    "ax.legend(loc='best', fontsize='8')\n",
    "plt.show()"
   ]
  },
  {
   "cell_type": "code",
   "execution_count": 73,
   "metadata": {
    "colab": {
     "base_uri": "https://localhost:8080/",
     "height": 545
    },
    "id": "6Q0QKeSN1lt9",
    "outputId": "a2573869-2413-48a7-fdb9-98dade07fd08"
   },
   "outputs": [
    {
     "name": "stderr",
     "output_type": "stream",
     "text": [
      "/usr/local/lib/python3.7/dist-packages/sklearn/base.py:451: UserWarning: X does not have valid feature names, but SVC was fitted with feature names\n",
      "  \"X does not have valid feature names, but\"\n"
     ]
    },
    {
     "data": {
      "image/png": "[encoded data removed]",
      "text/plain": [
       "<Figure size 1080x576 with 1 Axes>"
      ]
     },
     "metadata": {
      "needs_background": "light"
     },
     "output_type": "display_data"
    }
   ],
   "source": [
    "fig, ax = plt.subplots(figsize=(15, 8))\n",
    "ax.scatter(x=df.loc[df['predict'] == 'working_day']['am'],\n",
    "           y=df.loc[df['predict'] == 'working_day']['pm'],\n",
    "           color='green', label='working_day')\n",
    "ax.scatter(x=df.loc[df['predict'] == 'weekend']['am'],\n",
    "           y=df.loc[df['predict'] == 'weekend']['pm'],\n",
    "           color='blue', label='weekend')\n",
    "xlim = ax.get_xlim()\n",
    "ylim = ax.get_ylim()\n",
    "xx = np.linspace(xlim[0], xlim[1], 30)\n",
    "yy = np.linspace(ylim[0], ylim[1], 30)\n",
    "YY, XX = np.meshgrid(yy, xx)\n",
    "xy = np.vstack([XX.ravel(), YY.ravel()]).T\n",
    "Z = gs.best_estimator_.decision_function(xy).reshape(XX.shape)\n",
    "ax.pcolormesh(XX, YY, Z > 0, alpha=0.5, cmap='magma')\n",
    "ax.contour(XX, YY, Z, colors='k', levels=[-0.5, 0, 0.5],\n",
    "           linestyles=['--', '-', '--'])\n",
    "ax.set_title('SVC predictions', fontsize='10')\n",
    "ax.set_xlabel('am', fontsize='8')\n",
    "ax.set_ylabel('pm', fontsize='8')\n",
    "ax.legend(loc='upper left', fontsize='8')\n",
    "plt.show()"
   ]
  },
  {
   "cell_type": "markdown",
   "metadata": {
    "id": "DporVe2Z1lt-"
   },
   "source": [
    "## 4. Decision tree"
   ]
  },
  {
   "cell_type": "markdown",
   "metadata": {
    "id": "wKlT-Wg31luK"
   },
   "source": [
    "1. Apply `DecisionTreeClassifier` to the scaled dataframe using parameters `max_depth=4`, `random_state=42`.\n",
    "2. Calculate accuracy.\n",
    "3. Try different values of `max_depth`.\n",
    "4. Draw both plots again with the decisions boundary to see how this algorithm works.\n",
    "5. Using method `.plot_tree()` visualize the decision tree itself. It is another way of thinking about how the algorithm works.\n",
    "6. How many leaves in the visualized tree label days as working days? Put your answer in the markdown cell in the end of the section."
   ]
  },
  {
   "cell_type": "code",
   "execution_count": 75,
   "metadata": {
    "colab": {
     "base_uri": "https://localhost:8080/"
    },
    "id": "gZp5_zRC1luL",
    "outputId": "e5c543c5-da31-4f30-c4f7-43ca6b876fe4"
   },
   "outputs": [
    {
     "data": {
      "text/plain": [
       "DecisionTreeClassifier(max_depth=4, random_state=42)"
      ]
     },
     "execution_count": 75,
     "metadata": {},
     "output_type": "execute_result"
    }
   ],
   "source": [
    "dtc = DecisionTreeClassifier(max_depth=4, random_state=42)\n",
    "dtc.fit(X, Y)"
   ]
  },
  {
   "cell_type": "code",
   "execution_count": 76,
   "metadata": {
    "colab": {
     "base_uri": "https://localhost:8080/",
     "height": 1000
    },
    "id": "rl3DD_9u1luL",
    "outputId": "37c897d6-fd16-4f36-fb79-51828e7fbce6"
   },
   "outputs": [
    {
     "data": {
      "text/html": [
       "\n",
       "  <div id=\"df-a8a67e95-a411-47e0-80b5-b4f4e1110ca0\">\n",
       "    <div class=\"colab-df-container\">\n",
       "      <div>\n",
       "<style scoped>\n",
       "    .dataframe tbody tr th:only-of-type {\n",
       "        vertical-align: middle;\n",
       "    }\n",
       "\n",
       "    .dataframe tbody tr th {\n",
       "        vertical-align: top;\n",
       "    }\n",
       "\n",
       "    .dataframe thead th {\n",
       "        text-align: right;\n",
       "    }\n",
       "</style>\n",
       "<table border=\"1\" class=\"dataframe\">\n",
       "  <thead>\n",
       "    <tr style=\"text-align: right;\">\n",
       "      <th></th>\n",
       "      <th>date</th>\n",
       "      <th>am</th>\n",
       "      <th>pm</th>\n",
       "      <th>target</th>\n",
       "      <th>predict</th>\n",
       "    </tr>\n",
       "  </thead>\n",
       "  <tbody>\n",
       "    <tr>\n",
       "      <th>0</th>\n",
       "      <td>2020-04-17</td>\n",
       "      <td>0.200690</td>\n",
       "      <td>-0.719904</td>\n",
       "      <td>working_day</td>\n",
       "      <td>working_day</td>\n",
       "    </tr>\n",
       "    <tr>\n",
       "      <th>1</th>\n",
       "      <td>2020-04-18</td>\n",
       "      <td>-0.655914</td>\n",
       "      <td>-0.071822</td>\n",
       "      <td>weekend</td>\n",
       "      <td>weekend</td>\n",
       "    </tr>\n",
       "    <tr>\n",
       "      <th>2</th>\n",
       "      <td>2020-04-19</td>\n",
       "      <td>0.072199</td>\n",
       "      <td>-0.592251</td>\n",
       "      <td>weekend</td>\n",
       "      <td>working_day</td>\n",
       "    </tr>\n",
       "    <tr>\n",
       "      <th>3</th>\n",
       "      <td>2020-04-20</td>\n",
       "      <td>-0.613084</td>\n",
       "      <td>-0.513696</td>\n",
       "      <td>working_day</td>\n",
       "      <td>working_day</td>\n",
       "    </tr>\n",
       "    <tr>\n",
       "      <th>4</th>\n",
       "      <td>2020-04-21</td>\n",
       "      <td>-0.698744</td>\n",
       "      <td>-0.494057</td>\n",
       "      <td>working_day</td>\n",
       "      <td>working_day</td>\n",
       "    </tr>\n",
       "    <tr>\n",
       "      <th>5</th>\n",
       "      <td>2020-04-22</td>\n",
       "      <td>-0.698744</td>\n",
       "      <td>-0.464599</td>\n",
       "      <td>working_day</td>\n",
       "      <td>working_day</td>\n",
       "    </tr>\n",
       "    <tr>\n",
       "      <th>6</th>\n",
       "      <td>2020-04-23</td>\n",
       "      <td>-0.270442</td>\n",
       "      <td>-0.415502</td>\n",
       "      <td>working_day</td>\n",
       "      <td>working_day</td>\n",
       "    </tr>\n",
       "    <tr>\n",
       "      <th>7</th>\n",
       "      <td>2020-04-24</td>\n",
       "      <td>-0.613084</td>\n",
       "      <td>-0.602071</td>\n",
       "      <td>working_day</td>\n",
       "      <td>working_day</td>\n",
       "    </tr>\n",
       "    <tr>\n",
       "      <th>8</th>\n",
       "      <td>2020-04-25</td>\n",
       "      <td>0.586162</td>\n",
       "      <td>-0.012906</td>\n",
       "      <td>weekend</td>\n",
       "      <td>weekend</td>\n",
       "    </tr>\n",
       "    <tr>\n",
       "      <th>9</th>\n",
       "      <td>2020-04-26</td>\n",
       "      <td>0.500501</td>\n",
       "      <td>1.548382</td>\n",
       "      <td>weekend</td>\n",
       "      <td>weekend</td>\n",
       "    </tr>\n",
       "    <tr>\n",
       "      <th>10</th>\n",
       "      <td>2020-04-27</td>\n",
       "      <td>-0.527423</td>\n",
       "      <td>-0.719904</td>\n",
       "      <td>working_day</td>\n",
       "      <td>working_day</td>\n",
       "    </tr>\n",
       "    <tr>\n",
       "      <th>11</th>\n",
       "      <td>2020-04-28</td>\n",
       "      <td>-0.527423</td>\n",
       "      <td>-0.729723</td>\n",
       "      <td>working_day</td>\n",
       "      <td>working_day</td>\n",
       "    </tr>\n",
       "    <tr>\n",
       "      <th>12</th>\n",
       "      <td>2020-04-29</td>\n",
       "      <td>-0.698744</td>\n",
       "      <td>-0.572612</td>\n",
       "      <td>working_day</td>\n",
       "      <td>working_day</td>\n",
       "    </tr>\n",
       "    <tr>\n",
       "      <th>13</th>\n",
       "      <td>2020-04-30</td>\n",
       "      <td>-0.141951</td>\n",
       "      <td>-0.346766</td>\n",
       "      <td>working_day</td>\n",
       "      <td>working_day</td>\n",
       "    </tr>\n",
       "    <tr>\n",
       "      <th>14</th>\n",
       "      <td>2020-05-01</td>\n",
       "      <td>-0.356102</td>\n",
       "      <td>-0.228933</td>\n",
       "      <td>working_day</td>\n",
       "      <td>working_day</td>\n",
       "    </tr>\n",
       "    <tr>\n",
       "      <th>15</th>\n",
       "      <td>2020-05-02</td>\n",
       "      <td>3.198804</td>\n",
       "      <td>0.743190</td>\n",
       "      <td>weekend</td>\n",
       "      <td>weekend</td>\n",
       "    </tr>\n",
       "    <tr>\n",
       "      <th>16</th>\n",
       "      <td>2020-05-03</td>\n",
       "      <td>1.314275</td>\n",
       "      <td>0.566440</td>\n",
       "      <td>weekend</td>\n",
       "      <td>weekend</td>\n",
       "    </tr>\n",
       "    <tr>\n",
       "      <th>17</th>\n",
       "      <td>2020-05-04</td>\n",
       "      <td>-0.227612</td>\n",
       "      <td>-0.484238</td>\n",
       "      <td>working_day</td>\n",
       "      <td>working_day</td>\n",
       "    </tr>\n",
       "    <tr>\n",
       "      <th>18</th>\n",
       "      <td>2020-05-05</td>\n",
       "      <td>2.770502</td>\n",
       "      <td>-0.170016</td>\n",
       "      <td>working_day</td>\n",
       "      <td>working_day</td>\n",
       "    </tr>\n",
       "    <tr>\n",
       "      <th>19</th>\n",
       "      <td>2020-05-06</td>\n",
       "      <td>-0.613084</td>\n",
       "      <td>-0.739542</td>\n",
       "      <td>working_day</td>\n",
       "      <td>working_day</td>\n",
       "    </tr>\n",
       "    <tr>\n",
       "      <th>20</th>\n",
       "      <td>2020-05-07</td>\n",
       "      <td>-0.099121</td>\n",
       "      <td>-0.366405</td>\n",
       "      <td>working_day</td>\n",
       "      <td>working_day</td>\n",
       "    </tr>\n",
       "    <tr>\n",
       "      <th>21</th>\n",
       "      <td>2020-05-08</td>\n",
       "      <td>-0.570253</td>\n",
       "      <td>0.085289</td>\n",
       "      <td>working_day</td>\n",
       "      <td>working_day</td>\n",
       "    </tr>\n",
       "    <tr>\n",
       "      <th>22</th>\n",
       "      <td>2020-05-09</td>\n",
       "      <td>-0.698744</td>\n",
       "      <td>0.104928</td>\n",
       "      <td>weekend</td>\n",
       "      <td>weekend</td>\n",
       "    </tr>\n",
       "    <tr>\n",
       "      <th>23</th>\n",
       "      <td>2020-05-10</td>\n",
       "      <td>-0.270442</td>\n",
       "      <td>0.566440</td>\n",
       "      <td>weekend</td>\n",
       "      <td>weekend</td>\n",
       "    </tr>\n",
       "    <tr>\n",
       "      <th>24</th>\n",
       "      <td>2020-05-11</td>\n",
       "      <td>-0.570253</td>\n",
       "      <td>1.057411</td>\n",
       "      <td>working_day</td>\n",
       "      <td>working_day</td>\n",
       "    </tr>\n",
       "    <tr>\n",
       "      <th>25</th>\n",
       "      <td>2020-05-12</td>\n",
       "      <td>1.699747</td>\n",
       "      <td>1.882242</td>\n",
       "      <td>working_day</td>\n",
       "      <td>working_day</td>\n",
       "    </tr>\n",
       "    <tr>\n",
       "      <th>26</th>\n",
       "      <td>2020-05-13</td>\n",
       "      <td>-0.441763</td>\n",
       "      <td>1.273438</td>\n",
       "      <td>working_day</td>\n",
       "      <td>working_day</td>\n",
       "    </tr>\n",
       "    <tr>\n",
       "      <th>27</th>\n",
       "      <td>2020-05-14</td>\n",
       "      <td>2.128049</td>\n",
       "      <td>4.258542</td>\n",
       "      <td>working_day</td>\n",
       "      <td>working_day</td>\n",
       "    </tr>\n",
       "    <tr>\n",
       "      <th>28</th>\n",
       "      <td>2020-05-15</td>\n",
       "      <td>-0.270442</td>\n",
       "      <td>-0.739542</td>\n",
       "      <td>working_day</td>\n",
       "      <td>working_day</td>\n",
       "    </tr>\n",
       "    <tr>\n",
       "      <th>29</th>\n",
       "      <td>2020-05-16</td>\n",
       "      <td>-0.698744</td>\n",
       "      <td>-0.700265</td>\n",
       "      <td>weekend</td>\n",
       "      <td>weekend</td>\n",
       "    </tr>\n",
       "    <tr>\n",
       "      <th>30</th>\n",
       "      <td>2020-05-17</td>\n",
       "      <td>-0.613084</td>\n",
       "      <td>-0.287849</td>\n",
       "      <td>weekend</td>\n",
       "      <td>working_day</td>\n",
       "    </tr>\n",
       "    <tr>\n",
       "      <th>31</th>\n",
       "      <td>2020-05-18</td>\n",
       "      <td>-0.698744</td>\n",
       "      <td>-0.710084</td>\n",
       "      <td>working_day</td>\n",
       "      <td>working_day</td>\n",
       "    </tr>\n",
       "    <tr>\n",
       "      <th>32</th>\n",
       "      <td>2020-05-19</td>\n",
       "      <td>0.157860</td>\n",
       "      <td>-0.602071</td>\n",
       "      <td>working_day</td>\n",
       "      <td>working_day</td>\n",
       "    </tr>\n",
       "    <tr>\n",
       "      <th>33</th>\n",
       "      <td>2020-05-20</td>\n",
       "      <td>-0.398933</td>\n",
       "      <td>-0.533335</td>\n",
       "      <td>working_day</td>\n",
       "      <td>working_day</td>\n",
       "    </tr>\n",
       "    <tr>\n",
       "      <th>34</th>\n",
       "      <td>2020-05-21</td>\n",
       "      <td>-0.655914</td>\n",
       "      <td>-0.268210</td>\n",
       "      <td>working_day</td>\n",
       "      <td>working_day</td>\n",
       "    </tr>\n",
       "  </tbody>\n",
       "</table>\n",
       "</div>\n",
       "      <button class=\"colab-df-convert\" onclick=\"convertToInteractive('df-a8a67e95-a411-47e0-80b5-b4f4e1110ca0')\"\n",
       "              title=\"Convert this dataframe to an interactive table.\"\n",
       "              style=\"display:none;\">\n",
       "        \n",
       "  <svg xmlns=\"http://www.w3.org/2000/svg\" height=\"24px\"viewBox=\"0 0 24 24\"\n",
       "       width=\"24px\">\n",
       "    <path d=\"M0 0h24v24H0V0z\" fill=\"none\"/>\n",
       "    <path d=\"M18.56 5.44l.94 2.06.94-2.06 2.06-.94-2.06-.94-.94-2.06-.94 2.06-2.06.94zm-11 1L8.5 8.5l.94-2.06 2.06-.94-2.06-.94L8.5 2.5l-.94 2.06-2.06.94zm10 10l.94 2.06.94-2.06 2.06-.94-2.06-.94-.94-2.06-.94 2.06-2.06.94z\"/><path d=\"M17.41 7.96l-1.37-1.37c-.4-.4-.92-.59-1.43-.59-.52 0-1.04.2-1.43.59L10.3 9.45l-7.72 7.72c-.78.78-.78 2.05 0 2.83L4 21.41c.39.39.9.59 1.41.59.51 0 1.02-.2 1.41-.59l7.78-7.78 2.81-2.81c.8-.78.8-2.07 0-2.86zM5.41 20L4 18.59l7.72-7.72 1.47 1.35L5.41 20z\"/>\n",
       "  </svg>\n",
       "      </button>\n",
       "      \n",
       "  <style>\n",
       "    .colab-df-container {\n",
       "      display:flex;\n",
       "      flex-wrap:wrap;\n",
       "      gap: 12px;\n",
       "    }\n",
       "\n",
       "    .colab-df-convert {\n",
       "      background-color: #E8F0FE;\n",
       "      border: none;\n",
       "      border-radius: 50%;\n",
       "      cursor: pointer;\n",
       "      display: none;\n",
       "      fill: #1967D2;\n",
       "      height: 32px;\n",
       "      padding: 0 0 0 0;\n",
       "      width: 32px;\n",
       "    }\n",
       "\n",
       "    .colab-df-convert:hover {\n",
       "      background-color: #E2EBFA;\n",
       "      box-shadow: 0px 1px 2px rgba(60, 64, 67, 0.3), 0px 1px 3px 1px rgba(60, 64, 67, 0.15);\n",
       "      fill: #174EA6;\n",
       "    }\n",
       "\n",
       "    [theme=dark] .colab-df-convert {\n",
       "      background-color: #3B4455;\n",
       "      fill: #D2E3FC;\n",
       "    }\n",
       "\n",
       "    [theme=dark] .colab-df-convert:hover {\n",
       "      background-color: #434B5C;\n",
       "      box-shadow: 0px 1px 3px 1px rgba(0, 0, 0, 0.15);\n",
       "      filter: drop-shadow(0px 1px 2px rgba(0, 0, 0, 0.3));\n",
       "      fill: #FFFFFF;\n",
       "    }\n",
       "  </style>\n",
       "\n",
       "      <script>\n",
       "        const buttonEl =\n",
       "          document.querySelector('#df-a8a67e95-a411-47e0-80b5-b4f4e1110ca0 button.colab-df-convert');\n",
       "        buttonEl.style.display =\n",
       "          google.colab.kernel.accessAllowed ? 'block' : 'none';\n",
       "\n",
       "        async function convertToInteractive(key) {\n",
       "          const element = document.querySelector('#df-a8a67e95-a411-47e0-80b5-b4f4e1110ca0');\n",
       "          const dataTable =\n",
       "            await google.colab.kernel.invokeFunction('convertToInteractive',\n",
       "                                                     [key], {});\n",
       "          if (!dataTable) return;\n",
       "\n",
       "          const docLinkHtml = 'Like what you see? Visit the ' +\n",
       "            '<a target=\"_blank\" href=https://colab.research.google.com/notebooks/data_table.ipynb>data table notebook</a>'\n",
       "            + ' to learn more about interactive tables.';\n",
       "          element.innerHTML = '';\n",
       "          dataTable['output_type'] = 'display_data';\n",
       "          await google.colab.output.renderOutput(dataTable, element);\n",
       "          const docLink = document.createElement('div');\n",
       "          docLink.innerHTML = docLinkHtml;\n",
       "          element.appendChild(docLink);\n",
       "        }\n",
       "      </script>\n",
       "    </div>\n",
       "  </div>\n",
       "  "
      ],
      "text/plain": [
       "          date        am        pm       target      predict\n",
       "0   2020-04-17  0.200690 -0.719904  working_day  working_day\n",
       "1   2020-04-18 -0.655914 -0.071822      weekend      weekend\n",
       "2   2020-04-19  0.072199 -0.592251      weekend  working_day\n",
       "3   2020-04-20 -0.613084 -0.513696  working_day  working_day\n",
       "4   2020-04-21 -0.698744 -0.494057  working_day  working_day\n",
       "5   2020-04-22 -0.698744 -0.464599  working_day  working_day\n",
       "6   2020-04-23 -0.270442 -0.415502  working_day  working_day\n",
       "7   2020-04-24 -0.613084 -0.602071  working_day  working_day\n",
       "8   2020-04-25  0.586162 -0.012906      weekend      weekend\n",
       "9   2020-04-26  0.500501  1.548382      weekend      weekend\n",
       "10  2020-04-27 -0.527423 -0.719904  working_day  working_day\n",
       "11  2020-04-28 -0.527423 -0.729723  working_day  working_day\n",
       "12  2020-04-29 -0.698744 -0.572612  working_day  working_day\n",
       "13  2020-04-30 -0.141951 -0.346766  working_day  working_day\n",
       "14  2020-05-01 -0.356102 -0.228933  working_day  working_day\n",
       "15  2020-05-02  3.198804  0.743190      weekend      weekend\n",
       "16  2020-05-03  1.314275  0.566440      weekend      weekend\n",
       "17  2020-05-04 -0.227612 -0.484238  working_day  working_day\n",
       "18  2020-05-05  2.770502 -0.170016  working_day  working_day\n",
       "19  2020-05-06 -0.613084 -0.739542  working_day  working_day\n",
       "20  2020-05-07 -0.099121 -0.366405  working_day  working_day\n",
       "21  2020-05-08 -0.570253  0.085289  working_day  working_day\n",
       "22  2020-05-09 -0.698744  0.104928      weekend      weekend\n",
       "23  2020-05-10 -0.270442  0.566440      weekend      weekend\n",
       "24  2020-05-11 -0.570253  1.057411  working_day  working_day\n",
       "25  2020-05-12  1.699747  1.882242  working_day  working_day\n",
       "26  2020-05-13 -0.441763  1.273438  working_day  working_day\n",
       "27  2020-05-14  2.128049  4.258542  working_day  working_day\n",
       "28  2020-05-15 -0.270442 -0.739542  working_day  working_day\n",
       "29  2020-05-16 -0.698744 -0.700265      weekend      weekend\n",
       "30  2020-05-17 -0.613084 -0.287849      weekend  working_day\n",
       "31  2020-05-18 -0.698744 -0.710084  working_day  working_day\n",
       "32  2020-05-19  0.157860 -0.602071  working_day  working_day\n",
       "33  2020-05-20 -0.398933 -0.533335  working_day  working_day\n",
       "34  2020-05-21 -0.655914 -0.268210  working_day  working_day"
      ]
     },
     "execution_count": 76,
     "metadata": {},
     "output_type": "execute_result"
    }
   ],
   "source": [
    "y_pred = dtc.predict(X)\n",
    "df['predict'] = np.where(y_pred == 0, 'working_day', 'weekend')\n",
    "df"
   ]
  },
  {
   "cell_type": "code",
   "execution_count": 77,
   "metadata": {
    "colab": {
     "base_uri": "https://localhost:8080/"
    },
    "id": "ITSlyo-e1luL",
    "outputId": "eaace076-265d-4375-bd25-3e7e9d564687"
   },
   "outputs": [
    {
     "data": {
      "text/plain": [
       "0.9428571428571428"
      ]
     },
     "execution_count": 77,
     "metadata": {},
     "output_type": "execute_result"
    }
   ],
   "source": [
    "accuracy_score(Y, y_pred)"
   ]
  },
  {
   "cell_type": "code",
   "execution_count": 80,
   "metadata": {
    "colab": {
     "base_uri": "https://localhost:8080/"
    },
    "id": "PSkmdhNg1luM",
    "outputId": "f0acfae3-3762-4e15-cf22-db7dce708a73"
   },
   "outputs": [
    {
     "data": {
      "text/plain": [
       "{'max_depth': 4}"
      ]
     },
     "execution_count": 80,
     "metadata": {},
     "output_type": "execute_result"
    }
   ],
   "source": [
    "param_grid = {'max_depth': np.arange(3, 21)}\n",
    "gs = GridSearchCV(dtc, param_grid, scoring='accuracy')\n",
    "gs.fit(X, Y)\n",
    "gs.best_params_"
   ]
  },
  {
   "cell_type": "code",
   "execution_count": 81,
   "metadata": {
    "colab": {
     "base_uri": "https://localhost:8080/",
     "height": 1000
    },
    "id": "4OctubIE1luM",
    "outputId": "0da175da-b6de-4554-c0ec-6908037a5bda"
   },
   "outputs": [
    {
     "data": {
      "text/html": [
       "\n",
       "  <div id=\"df-04240e83-5203-4c3a-ba77-7db65cccc567\">\n",
       "    <div class=\"colab-df-container\">\n",
       "      <div>\n",
       "<style scoped>\n",
       "    .dataframe tbody tr th:only-of-type {\n",
       "        vertical-align: middle;\n",
       "    }\n",
       "\n",
       "    .dataframe tbody tr th {\n",
       "        vertical-align: top;\n",
       "    }\n",
       "\n",
       "    .dataframe thead th {\n",
       "        text-align: right;\n",
       "    }\n",
       "</style>\n",
       "<table border=\"1\" class=\"dataframe\">\n",
       "  <thead>\n",
       "    <tr style=\"text-align: right;\">\n",
       "      <th></th>\n",
       "      <th>date</th>\n",
       "      <th>am</th>\n",
       "      <th>pm</th>\n",
       "      <th>target</th>\n",
       "      <th>predict</th>\n",
       "    </tr>\n",
       "  </thead>\n",
       "  <tbody>\n",
       "    <tr>\n",
       "      <th>0</th>\n",
       "      <td>2020-04-17</td>\n",
       "      <td>0.200690</td>\n",
       "      <td>-0.719904</td>\n",
       "      <td>working_day</td>\n",
       "      <td>working_day</td>\n",
       "    </tr>\n",
       "    <tr>\n",
       "      <th>1</th>\n",
       "      <td>2020-04-18</td>\n",
       "      <td>-0.655914</td>\n",
       "      <td>-0.071822</td>\n",
       "      <td>weekend</td>\n",
       "      <td>weekend</td>\n",
       "    </tr>\n",
       "    <tr>\n",
       "      <th>2</th>\n",
       "      <td>2020-04-19</td>\n",
       "      <td>0.072199</td>\n",
       "      <td>-0.592251</td>\n",
       "      <td>weekend</td>\n",
       "      <td>working_day</td>\n",
       "    </tr>\n",
       "    <tr>\n",
       "      <th>3</th>\n",
       "      <td>2020-04-20</td>\n",
       "      <td>-0.613084</td>\n",
       "      <td>-0.513696</td>\n",
       "      <td>working_day</td>\n",
       "      <td>working_day</td>\n",
       "    </tr>\n",
       "    <tr>\n",
       "      <th>4</th>\n",
       "      <td>2020-04-21</td>\n",
       "      <td>-0.698744</td>\n",
       "      <td>-0.494057</td>\n",
       "      <td>working_day</td>\n",
       "      <td>working_day</td>\n",
       "    </tr>\n",
       "    <tr>\n",
       "      <th>5</th>\n",
       "      <td>2020-04-22</td>\n",
       "      <td>-0.698744</td>\n",
       "      <td>-0.464599</td>\n",
       "      <td>working_day</td>\n",
       "      <td>working_day</td>\n",
       "    </tr>\n",
       "    <tr>\n",
       "      <th>6</th>\n",
       "      <td>2020-04-23</td>\n",
       "      <td>-0.270442</td>\n",
       "      <td>-0.415502</td>\n",
       "      <td>working_day</td>\n",
       "      <td>working_day</td>\n",
       "    </tr>\n",
       "    <tr>\n",
       "      <th>7</th>\n",
       "      <td>2020-04-24</td>\n",
       "      <td>-0.613084</td>\n",
       "      <td>-0.602071</td>\n",
       "      <td>working_day</td>\n",
       "      <td>working_day</td>\n",
       "    </tr>\n",
       "    <tr>\n",
       "      <th>8</th>\n",
       "      <td>2020-04-25</td>\n",
       "      <td>0.586162</td>\n",
       "      <td>-0.012906</td>\n",
       "      <td>weekend</td>\n",
       "      <td>weekend</td>\n",
       "    </tr>\n",
       "    <tr>\n",
       "      <th>9</th>\n",
       "      <td>2020-04-26</td>\n",
       "      <td>0.500501</td>\n",
       "      <td>1.548382</td>\n",
       "      <td>weekend</td>\n",
       "      <td>weekend</td>\n",
       "    </tr>\n",
       "    <tr>\n",
       "      <th>10</th>\n",
       "      <td>2020-04-27</td>\n",
       "      <td>-0.527423</td>\n",
       "      <td>-0.719904</td>\n",
       "      <td>working_day</td>\n",
       "      <td>working_day</td>\n",
       "    </tr>\n",
       "    <tr>\n",
       "      <th>11</th>\n",
       "      <td>2020-04-28</td>\n",
       "      <td>-0.527423</td>\n",
       "      <td>-0.729723</td>\n",
       "      <td>working_day</td>\n",
       "      <td>working_day</td>\n",
       "    </tr>\n",
       "    <tr>\n",
       "      <th>12</th>\n",
       "      <td>2020-04-29</td>\n",
       "      <td>-0.698744</td>\n",
       "      <td>-0.572612</td>\n",
       "      <td>working_day</td>\n",
       "      <td>working_day</td>\n",
       "    </tr>\n",
       "    <tr>\n",
       "      <th>13</th>\n",
       "      <td>2020-04-30</td>\n",
       "      <td>-0.141951</td>\n",
       "      <td>-0.346766</td>\n",
       "      <td>working_day</td>\n",
       "      <td>working_day</td>\n",
       "    </tr>\n",
       "    <tr>\n",
       "      <th>14</th>\n",
       "      <td>2020-05-01</td>\n",
       "      <td>-0.356102</td>\n",
       "      <td>-0.228933</td>\n",
       "      <td>working_day</td>\n",
       "      <td>working_day</td>\n",
       "    </tr>\n",
       "    <tr>\n",
       "      <th>15</th>\n",
       "      <td>2020-05-02</td>\n",
       "      <td>3.198804</td>\n",
       "      <td>0.743190</td>\n",
       "      <td>weekend</td>\n",
       "      <td>weekend</td>\n",
       "    </tr>\n",
       "    <tr>\n",
       "      <th>16</th>\n",
       "      <td>2020-05-03</td>\n",
       "      <td>1.314275</td>\n",
       "      <td>0.566440</td>\n",
       "      <td>weekend</td>\n",
       "      <td>weekend</td>\n",
       "    </tr>\n",
       "    <tr>\n",
       "      <th>17</th>\n",
       "      <td>2020-05-04</td>\n",
       "      <td>-0.227612</td>\n",
       "      <td>-0.484238</td>\n",
       "      <td>working_day</td>\n",
       "      <td>working_day</td>\n",
       "    </tr>\n",
       "    <tr>\n",
       "      <th>18</th>\n",
       "      <td>2020-05-05</td>\n",
       "      <td>2.770502</td>\n",
       "      <td>-0.170016</td>\n",
       "      <td>working_day</td>\n",
       "      <td>working_day</td>\n",
       "    </tr>\n",
       "    <tr>\n",
       "      <th>19</th>\n",
       "      <td>2020-05-06</td>\n",
       "      <td>-0.613084</td>\n",
       "      <td>-0.739542</td>\n",
       "      <td>working_day</td>\n",
       "      <td>working_day</td>\n",
       "    </tr>\n",
       "    <tr>\n",
       "      <th>20</th>\n",
       "      <td>2020-05-07</td>\n",
       "      <td>-0.099121</td>\n",
       "      <td>-0.366405</td>\n",
       "      <td>working_day</td>\n",
       "      <td>working_day</td>\n",
       "    </tr>\n",
       "    <tr>\n",
       "      <th>21</th>\n",
       "      <td>2020-05-08</td>\n",
       "      <td>-0.570253</td>\n",
       "      <td>0.085289</td>\n",
       "      <td>working_day</td>\n",
       "      <td>working_day</td>\n",
       "    </tr>\n",
       "    <tr>\n",
       "      <th>22</th>\n",
       "      <td>2020-05-09</td>\n",
       "      <td>-0.698744</td>\n",
       "      <td>0.104928</td>\n",
       "      <td>weekend</td>\n",
       "      <td>weekend</td>\n",
       "    </tr>\n",
       "    <tr>\n",
       "      <th>23</th>\n",
       "      <td>2020-05-10</td>\n",
       "      <td>-0.270442</td>\n",
       "      <td>0.566440</td>\n",
       "      <td>weekend</td>\n",
       "      <td>weekend</td>\n",
       "    </tr>\n",
       "    <tr>\n",
       "      <th>24</th>\n",
       "      <td>2020-05-11</td>\n",
       "      <td>-0.570253</td>\n",
       "      <td>1.057411</td>\n",
       "      <td>working_day</td>\n",
       "      <td>working_day</td>\n",
       "    </tr>\n",
       "    <tr>\n",
       "      <th>25</th>\n",
       "      <td>2020-05-12</td>\n",
       "      <td>1.699747</td>\n",
       "      <td>1.882242</td>\n",
       "      <td>working_day</td>\n",
       "      <td>working_day</td>\n",
       "    </tr>\n",
       "    <tr>\n",
       "      <th>26</th>\n",
       "      <td>2020-05-13</td>\n",
       "      <td>-0.441763</td>\n",
       "      <td>1.273438</td>\n",
       "      <td>working_day</td>\n",
       "      <td>working_day</td>\n",
       "    </tr>\n",
       "    <tr>\n",
       "      <th>27</th>\n",
       "      <td>2020-05-14</td>\n",
       "      <td>2.128049</td>\n",
       "      <td>4.258542</td>\n",
       "      <td>working_day</td>\n",
       "      <td>working_day</td>\n",
       "    </tr>\n",
       "    <tr>\n",
       "      <th>28</th>\n",
       "      <td>2020-05-15</td>\n",
       "      <td>-0.270442</td>\n",
       "      <td>-0.739542</td>\n",
       "      <td>working_day</td>\n",
       "      <td>working_day</td>\n",
       "    </tr>\n",
       "    <tr>\n",
       "      <th>29</th>\n",
       "      <td>2020-05-16</td>\n",
       "      <td>-0.698744</td>\n",
       "      <td>-0.700265</td>\n",
       "      <td>weekend</td>\n",
       "      <td>weekend</td>\n",
       "    </tr>\n",
       "    <tr>\n",
       "      <th>30</th>\n",
       "      <td>2020-05-17</td>\n",
       "      <td>-0.613084</td>\n",
       "      <td>-0.287849</td>\n",
       "      <td>weekend</td>\n",
       "      <td>working_day</td>\n",
       "    </tr>\n",
       "    <tr>\n",
       "      <th>31</th>\n",
       "      <td>2020-05-18</td>\n",
       "      <td>-0.698744</td>\n",
       "      <td>-0.710084</td>\n",
       "      <td>working_day</td>\n",
       "      <td>working_day</td>\n",
       "    </tr>\n",
       "    <tr>\n",
       "      <th>32</th>\n",
       "      <td>2020-05-19</td>\n",
       "      <td>0.157860</td>\n",
       "      <td>-0.602071</td>\n",
       "      <td>working_day</td>\n",
       "      <td>working_day</td>\n",
       "    </tr>\n",
       "    <tr>\n",
       "      <th>33</th>\n",
       "      <td>2020-05-20</td>\n",
       "      <td>-0.398933</td>\n",
       "      <td>-0.533335</td>\n",
       "      <td>working_day</td>\n",
       "      <td>working_day</td>\n",
       "    </tr>\n",
       "    <tr>\n",
       "      <th>34</th>\n",
       "      <td>2020-05-21</td>\n",
       "      <td>-0.655914</td>\n",
       "      <td>-0.268210</td>\n",
       "      <td>working_day</td>\n",
       "      <td>working_day</td>\n",
       "    </tr>\n",
       "  </tbody>\n",
       "</table>\n",
       "</div>\n",
       "      <button class=\"colab-df-convert\" onclick=\"convertToInteractive('df-04240e83-5203-4c3a-ba77-7db65cccc567')\"\n",
       "              title=\"Convert this dataframe to an interactive table.\"\n",
       "              style=\"display:none;\">\n",
       "        \n",
       "  <svg xmlns=\"http://www.w3.org/2000/svg\" height=\"24px\"viewBox=\"0 0 24 24\"\n",
       "       width=\"24px\">\n",
       "    <path d=\"M0 0h24v24H0V0z\" fill=\"none\"/>\n",
       "    <path d=\"M18.56 5.44l.94 2.06.94-2.06 2.06-.94-2.06-.94-.94-2.06-.94 2.06-2.06.94zm-11 1L8.5 8.5l.94-2.06 2.06-.94-2.06-.94L8.5 2.5l-.94 2.06-2.06.94zm10 10l.94 2.06.94-2.06 2.06-.94-2.06-.94-.94-2.06-.94 2.06-2.06.94z\"/><path d=\"M17.41 7.96l-1.37-1.37c-.4-.4-.92-.59-1.43-.59-.52 0-1.04.2-1.43.59L10.3 9.45l-7.72 7.72c-.78.78-.78 2.05 0 2.83L4 21.41c.39.39.9.59 1.41.59.51 0 1.02-.2 1.41-.59l7.78-7.78 2.81-2.81c.8-.78.8-2.07 0-2.86zM5.41 20L4 18.59l7.72-7.72 1.47 1.35L5.41 20z\"/>\n",
       "  </svg>\n",
       "      </button>\n",
       "      \n",
       "  <style>\n",
       "    .colab-df-container {\n",
       "      display:flex;\n",
       "      flex-wrap:wrap;\n",
       "      gap: 12px;\n",
       "    }\n",
       "\n",
       "    .colab-df-convert {\n",
       "      background-color: #E8F0FE;\n",
       "      border: none;\n",
       "      border-radius: 50%;\n",
       "      cursor: pointer;\n",
       "      display: none;\n",
       "      fill: #1967D2;\n",
       "      height: 32px;\n",
       "      padding: 0 0 0 0;\n",
       "      width: 32px;\n",
       "    }\n",
       "\n",
       "    .colab-df-convert:hover {\n",
       "      background-color: #E2EBFA;\n",
       "      box-shadow: 0px 1px 2px rgba(60, 64, 67, 0.3), 0px 1px 3px 1px rgba(60, 64, 67, 0.15);\n",
       "      fill: #174EA6;\n",
       "    }\n",
       "\n",
       "    [theme=dark] .colab-df-convert {\n",
       "      background-color: #3B4455;\n",
       "      fill: #D2E3FC;\n",
       "    }\n",
       "\n",
       "    [theme=dark] .colab-df-convert:hover {\n",
       "      background-color: #434B5C;\n",
       "      box-shadow: 0px 1px 3px 1px rgba(0, 0, 0, 0.15);\n",
       "      filter: drop-shadow(0px 1px 2px rgba(0, 0, 0, 0.3));\n",
       "      fill: #FFFFFF;\n",
       "    }\n",
       "  </style>\n",
       "\n",
       "      <script>\n",
       "        const buttonEl =\n",
       "          document.querySelector('#df-04240e83-5203-4c3a-ba77-7db65cccc567 button.colab-df-convert');\n",
       "        buttonEl.style.display =\n",
       "          google.colab.kernel.accessAllowed ? 'block' : 'none';\n",
       "\n",
       "        async function convertToInteractive(key) {\n",
       "          const element = document.querySelector('#df-04240e83-5203-4c3a-ba77-7db65cccc567');\n",
       "          const dataTable =\n",
       "            await google.colab.kernel.invokeFunction('convertToInteractive',\n",
       "                                                     [key], {});\n",
       "          if (!dataTable) return;\n",
       "\n",
       "          const docLinkHtml = 'Like what you see? Visit the ' +\n",
       "            '<a target=\"_blank\" href=https://colab.research.google.com/notebooks/data_table.ipynb>data table notebook</a>'\n",
       "            + ' to learn more about interactive tables.';\n",
       "          element.innerHTML = '';\n",
       "          dataTable['output_type'] = 'display_data';\n",
       "          await google.colab.output.renderOutput(dataTable, element);\n",
       "          const docLink = document.createElement('div');\n",
       "          docLink.innerHTML = docLinkHtml;\n",
       "          element.appendChild(docLink);\n",
       "        }\n",
       "      </script>\n",
       "    </div>\n",
       "  </div>\n",
       "  "
      ],
      "text/plain": [
       "          date        am        pm       target      predict\n",
       "0   2020-04-17  0.200690 -0.719904  working_day  working_day\n",
       "1   2020-04-18 -0.655914 -0.071822      weekend      weekend\n",
       "2   2020-04-19  0.072199 -0.592251      weekend  working_day\n",
       "3   2020-04-20 -0.613084 -0.513696  working_day  working_day\n",
       "4   2020-04-21 -0.698744 -0.494057  working_day  working_day\n",
       "5   2020-04-22 -0.698744 -0.464599  working_day  working_day\n",
       "6   2020-04-23 -0.270442 -0.415502  working_day  working_day\n",
       "7   2020-04-24 -0.613084 -0.602071  working_day  working_day\n",
       "8   2020-04-25  0.586162 -0.012906      weekend      weekend\n",
       "9   2020-04-26  0.500501  1.548382      weekend      weekend\n",
       "10  2020-04-27 -0.527423 -0.719904  working_day  working_day\n",
       "11  2020-04-28 -0.527423 -0.729723  working_day  working_day\n",
       "12  2020-04-29 -0.698744 -0.572612  working_day  working_day\n",
       "13  2020-04-30 -0.141951 -0.346766  working_day  working_day\n",
       "14  2020-05-01 -0.356102 -0.228933  working_day  working_day\n",
       "15  2020-05-02  3.198804  0.743190      weekend      weekend\n",
       "16  2020-05-03  1.314275  0.566440      weekend      weekend\n",
       "17  2020-05-04 -0.227612 -0.484238  working_day  working_day\n",
       "18  2020-05-05  2.770502 -0.170016  working_day  working_day\n",
       "19  2020-05-06 -0.613084 -0.739542  working_day  working_day\n",
       "20  2020-05-07 -0.099121 -0.366405  working_day  working_day\n",
       "21  2020-05-08 -0.570253  0.085289  working_day  working_day\n",
       "22  2020-05-09 -0.698744  0.104928      weekend      weekend\n",
       "23  2020-05-10 -0.270442  0.566440      weekend      weekend\n",
       "24  2020-05-11 -0.570253  1.057411  working_day  working_day\n",
       "25  2020-05-12  1.699747  1.882242  working_day  working_day\n",
       "26  2020-05-13 -0.441763  1.273438  working_day  working_day\n",
       "27  2020-05-14  2.128049  4.258542  working_day  working_day\n",
       "28  2020-05-15 -0.270442 -0.739542  working_day  working_day\n",
       "29  2020-05-16 -0.698744 -0.700265      weekend      weekend\n",
       "30  2020-05-17 -0.613084 -0.287849      weekend  working_day\n",
       "31  2020-05-18 -0.698744 -0.710084  working_day  working_day\n",
       "32  2020-05-19  0.157860 -0.602071  working_day  working_day\n",
       "33  2020-05-20 -0.398933 -0.533335  working_day  working_day\n",
       "34  2020-05-21 -0.655914 -0.268210  working_day  working_day"
      ]
     },
     "execution_count": 81,
     "metadata": {},
     "output_type": "execute_result"
    }
   ],
   "source": [
    "dtc = DecisionTreeClassifier(max_depth=4, random_state=42)\n",
    "dtc.fit(X, Y)\n",
    "y_pred = dtc.predict(X)\n",
    "df['predict'] = np.where(y_pred == 0, 'working_day', 'weekend')\n",
    "df"
   ]
  },
  {
   "cell_type": "code",
   "execution_count": 82,
   "metadata": {
    "colab": {
     "base_uri": "https://localhost:8080/",
     "height": 545
    },
    "id": "VHfpz5_qfUIt",
    "outputId": "c3e8a3a6-599e-4930-8db9-64b17a39ef0a"
   },
   "outputs": [
    {
     "name": "stderr",
     "output_type": "stream",
     "text": [
      "/usr/local/lib/python3.7/dist-packages/sklearn/base.py:451: UserWarning: X does not have valid feature names, but DecisionTreeClassifier was fitted with feature names\n",
      "  \"X does not have valid feature names, but\"\n"
     ]
    },
    {
     "data": {
      "image/png": "[encoded data removed]",
      "text/plain": [
       "<Figure size 1080x576 with 1 Axes>"
      ]
     },
     "metadata": {
      "needs_background": "light"
     },
     "output_type": "display_data"
    }
   ],
   "source": [
    "fig, ax = plt.subplots(figsize=(15, 8))\n",
    "ax.scatter(x=df.loc[df['target'] == 'working_day']['am'],\n",
    "           y=df.loc[df['target'] == 'working_day']['pm'],\n",
    "           color='green', label='working_day')\n",
    "ax.scatter(x=df.loc[df['target'] == 'weekend']['am'],\n",
    "           y=df.loc[df['target'] == 'weekend']['pm'],\n",
    "           color='blue', label='weekend')\n",
    "xlim = ax.get_xlim()\n",
    "ylim = ax.get_ylim()\n",
    "xx = np.linspace(xlim[0], xlim[1], 30)\n",
    "yy = np.linspace(ylim[0], ylim[1], 30)\n",
    "YY, XX = np.meshgrid(yy, xx)\n",
    "Z = dtc.predict(np.c_[XX.ravel(), YY.ravel()]).reshape(XX.shape)\n",
    "ax.contourf(XX, YY, Z, alpha=0.5, cmap='magma')\n",
    "ax.set_title('Decision tree', fontsize='10')\n",
    "ax.set_xlabel('am', fontsize='8')\n",
    "ax.set_ylabel('pm', fontsize='8')\n",
    "ax.legend(loc='best', fontsize='8')\n",
    "plt.show()"
   ]
  },
  {
   "cell_type": "code",
   "execution_count": 83,
   "metadata": {
    "colab": {
     "base_uri": "https://localhost:8080/",
     "height": 545
    },
    "id": "psuaDJ_RfcKK",
    "outputId": "44578dae-306b-46b8-c306-c0d3a1b958f2"
   },
   "outputs": [
    {
     "name": "stderr",
     "output_type": "stream",
     "text": [
      "/usr/local/lib/python3.7/dist-packages/sklearn/base.py:451: UserWarning: X does not have valid feature names, but DecisionTreeClassifier was fitted with feature names\n",
      "  \"X does not have valid feature names, but\"\n"
     ]
    },
    {
     "data": {
      "image/png": "[encoded data removed]",
      "text/plain": [
       "<Figure size 1080x576 with 1 Axes>"
      ]
     },
     "metadata": {
      "needs_background": "light"
     },
     "output_type": "display_data"
    }
   ],
   "source": [
    "fig, ax = plt.subplots(figsize=(15, 8))\n",
    "ax.scatter(x=df.loc[df['predict'] == 'working_day']['am'],\n",
    "           y=df.loc[df['predict'] == 'working_day']['pm'],\n",
    "           color='blue', label='working_day')\n",
    "ax.scatter(x=df.loc[df['predict'] == 'weekend']['am'],\n",
    "           y=df.loc[df['predict'] == 'weekend']['pm'],\n",
    "           color='red', label='weekend')\n",
    "xlim = ax.get_xlim()\n",
    "ylim = ax.get_ylim()\n",
    "xx = np.linspace(xlim[0], xlim[1], 30)\n",
    "yy = np.linspace(ylim[0], ylim[1], 30)\n",
    "YY, XX = np.meshgrid(yy, xx)\n",
    "Z = dtc.predict(np.c_[XX.ravel(), YY.ravel()]).reshape(XX.shape)\n",
    "ax.contourf(XX, YY, Z, alpha=0.5, cmap='magma')\n",
    "ax.set_title('Decision tree', fontsize='10')\n",
    "ax.set_xlabel('am', fontsize='8')\n",
    "ax.set_ylabel('pm', fontsize='8')\n",
    "ax.legend(loc='best', fontsize='8')\n",
    "plt.show()"
   ]
  },
  {
   "cell_type": "code",
   "execution_count": 84,
   "metadata": {
    "colab": {
     "base_uri": "https://localhost:8080/",
     "height": 846
    },
    "id": "aVtVOLHKftKo",
    "outputId": "cca2677d-4c6d-4bb4-c2be-0770c2725466"
   },
   "outputs": [
    {
     "data": {
      "image/png": "[encoded data removed]",
      "text/plain": [
       "<Figure size 1440x1080 with 1 Axes>"
      ]
     },
     "metadata": {
      "needs_background": "light"
     },
     "output_type": "display_data"
    }
   ],
   "source": [
    "fig, ax = plt.subplots(figsize=(20, 15))\n",
    "plot_tree(gs.best_estimator_,\n",
    "          class_names=['working_day', 'weekend'],\n",
    "          filled=True, ax=ax)\n",
    "plt.show()"
   ]
  },
  {
   "cell_type": "markdown",
   "metadata": {
    "id": "-QmLERt51luM"
   },
   "source": [
    "4 листа - working days"
   ]
  }
 ],
 "metadata": {
  "colab": {
   "collapsed_sections": [],
   "provenance": []
  },
  "kernelspec": {
   "display_name": "Python 3 (ipykernel)",
   "language": "python",
   "name": "python3"
  },
  "language_info": {
   "codemirror_mode": {
    "name": "ipython",
    "version": 3
   },
   "file_extension": ".py",
   "mimetype": "text/x-python",
   "name": "python",
   "nbconvert_exporter": "python",
   "pygments_lexer": "ipython3",
   "version": "3.8.10"
  }
 },
 "nbformat": 4,
 "nbformat_minor": 1
}
