{
 "cells": [
  {
   "cell_type": "markdown",
   "metadata": {
    "id": "bP7GjNQ7Xg8R"
   },
   "source": [
    "## Imports"
   ]
  },
  {
   "cell_type": "code",
   "execution_count": 1,
   "metadata": {
    "executionInfo": {
     "elapsed": 268,
     "status": "ok",
     "timestamp": 1664040157355,
     "user": {
      "displayName": "Георгий Серикпаев",
      "userId": "01953706835980413447"
     },
     "user_tz": -180
    },
    "id": "DjAGy3blXXYd"
   },
   "outputs": [],
   "source": [
    "import pandas as pd"
   ]
  },
  {
   "cell_type": "markdown",
   "metadata": {
    "id": "7VXTsU8hXviH"
   },
   "source": [
    "## load the JSON file that you created in the previous exercise into a dataframe"
   ]
  },
  {
   "cell_type": "code",
   "execution_count": 2,
   "metadata": {
    "colab": {
     "base_uri": "https://localhost:8080/",
     "height": 237
    },
    "executionInfo": {
     "elapsed": 15,
     "status": "ok",
     "timestamp": 1664040157746,
     "user": {
      "displayName": "Георгий Серикпаев",
      "userId": "01953706835980413447"
     },
     "user_tz": -180
    },
    "id": "bDXY3G3tXx87",
    "outputId": "5ffec810-e8d7-4c49-81e5-fe64362ea6f3"
   },
   "outputs": [
    {
     "data": {
      "text/html": [
       "<div>\n",
       "<style scoped>\n",
       "    .dataframe tbody tr th:only-of-type {\n",
       "        vertical-align: middle;\n",
       "    }\n",
       "\n",
       "    .dataframe tbody tr th {\n",
       "        vertical-align: top;\n",
       "    }\n",
       "\n",
       "    .dataframe thead th {\n",
       "        text-align: right;\n",
       "    }\n",
       "</style>\n",
       "<table border=\"1\" class=\"dataframe\">\n",
       "  <thead>\n",
       "    <tr style=\"text-align: right;\">\n",
       "      <th></th>\n",
       "      <th>Refund</th>\n",
       "      <th>Fines</th>\n",
       "      <th>Make</th>\n",
       "      <th>Model</th>\n",
       "    </tr>\n",
       "    <tr>\n",
       "      <th>CarNumber</th>\n",
       "      <th></th>\n",
       "      <th></th>\n",
       "      <th></th>\n",
       "      <th></th>\n",
       "    </tr>\n",
       "  </thead>\n",
       "  <tbody>\n",
       "    <tr>\n",
       "      <th>Y163O8161RUS</th>\n",
       "      <td>2</td>\n",
       "      <td>3200.0</td>\n",
       "      <td>Ford</td>\n",
       "      <td>Focus</td>\n",
       "    </tr>\n",
       "    <tr>\n",
       "      <th>E432XX77RUS</th>\n",
       "      <td>1</td>\n",
       "      <td>6500.0</td>\n",
       "      <td>Toyota</td>\n",
       "      <td>Camry</td>\n",
       "    </tr>\n",
       "    <tr>\n",
       "      <th>7184TT36RUS</th>\n",
       "      <td>1</td>\n",
       "      <td>2100.0</td>\n",
       "      <td>Ford</td>\n",
       "      <td>Focus</td>\n",
       "    </tr>\n",
       "    <tr>\n",
       "      <th>X582HE161RUS</th>\n",
       "      <td>2</td>\n",
       "      <td>2000.0</td>\n",
       "      <td>Ford</td>\n",
       "      <td>Focus</td>\n",
       "    </tr>\n",
       "    <tr>\n",
       "      <th>92918M178RUS</th>\n",
       "      <td>1</td>\n",
       "      <td>5700.0</td>\n",
       "      <td>Ford</td>\n",
       "      <td>Focus</td>\n",
       "    </tr>\n",
       "  </tbody>\n",
       "</table>\n",
       "</div>"
      ],
      "text/plain": [
       "              Refund   Fines    Make  Model\n",
       "CarNumber                                  \n",
       "Y163O8161RUS       2  3200.0    Ford  Focus\n",
       "E432XX77RUS        1  6500.0  Toyota  Camry\n",
       "7184TT36RUS        1  2100.0    Ford  Focus\n",
       "X582HE161RUS       2  2000.0    Ford  Focus\n",
       "92918M178RUS       1  5700.0    Ford  Focus"
      ]
     },
     "execution_count": 2,
     "metadata": {},
     "output_type": "execute_result"
    }
   ],
   "source": [
    "df = pd.read_json('../data/auto.json').set_index('CarNumber')\n",
    "df.head()"
   ]
  },
  {
   "cell_type": "markdown",
   "metadata": {
    "id": "XbxdrPgca6vq"
   },
   "source": [
    "## make the following selects"
   ]
  },
  {
   "cell_type": "code",
   "execution_count": 4,
   "metadata": {
    "colab": {
     "base_uri": "https://localhost:8080/",
     "height": 455
    },
    "executionInfo": {
     "elapsed": 12,
     "status": "ok",
     "timestamp": 1664040157746,
     "user": {
      "displayName": "Георгий Серикпаев",
      "userId": "01953706835980413447"
     },
     "user_tz": -180
    },
    "id": "_BSJz1Fra1uc",
    "outputId": "48bc78a9-e863-4e24-f0dc-d60e84eca4b1"
   },
   "outputs": [
    {
     "data": {
      "text/html": [
       "<div>\n",
       "<style scoped>\n",
       "    .dataframe tbody tr th:only-of-type {\n",
       "        vertical-align: middle;\n",
       "    }\n",
       "\n",
       "    .dataframe tbody tr th {\n",
       "        vertical-align: top;\n",
       "    }\n",
       "\n",
       "    .dataframe thead th {\n",
       "        text-align: right;\n",
       "    }\n",
       "</style>\n",
       "<table border=\"1\" class=\"dataframe\">\n",
       "  <thead>\n",
       "    <tr style=\"text-align: right;\">\n",
       "      <th></th>\n",
       "      <th>Refund</th>\n",
       "      <th>Fines</th>\n",
       "      <th>Make</th>\n",
       "      <th>Model</th>\n",
       "    </tr>\n",
       "    <tr>\n",
       "      <th>CarNumber</th>\n",
       "      <th></th>\n",
       "      <th></th>\n",
       "      <th></th>\n",
       "      <th></th>\n",
       "    </tr>\n",
       "  </thead>\n",
       "  <tbody>\n",
       "    <tr>\n",
       "      <th>Y163O8161RUS</th>\n",
       "      <td>2</td>\n",
       "      <td>3200.000000</td>\n",
       "      <td>Ford</td>\n",
       "      <td>Focus</td>\n",
       "    </tr>\n",
       "    <tr>\n",
       "      <th>E432XX77RUS</th>\n",
       "      <td>1</td>\n",
       "      <td>6500.000000</td>\n",
       "      <td>Toyota</td>\n",
       "      <td>Camry</td>\n",
       "    </tr>\n",
       "    <tr>\n",
       "      <th>92918M178RUS</th>\n",
       "      <td>1</td>\n",
       "      <td>5700.000000</td>\n",
       "      <td>Ford</td>\n",
       "      <td>Focus</td>\n",
       "    </tr>\n",
       "    <tr>\n",
       "      <th>H234YH197RUS</th>\n",
       "      <td>2</td>\n",
       "      <td>6000.000000</td>\n",
       "      <td>Ford</td>\n",
       "      <td>Focus</td>\n",
       "    </tr>\n",
       "    <tr>\n",
       "      <th>E40577152RUS</th>\n",
       "      <td>1</td>\n",
       "      <td>8594.586466</td>\n",
       "      <td>Ford</td>\n",
       "      <td>Focus</td>\n",
       "    </tr>\n",
       "    <tr>\n",
       "      <th>...</th>\n",
       "      <td>...</td>\n",
       "      <td>...</td>\n",
       "      <td>...</td>\n",
       "      <td>...</td>\n",
       "    </tr>\n",
       "    <tr>\n",
       "      <th>O718MM163RUS</th>\n",
       "      <td>2</td>\n",
       "      <td>8594.586466</td>\n",
       "      <td>Ford</td>\n",
       "      <td>Focus</td>\n",
       "    </tr>\n",
       "    <tr>\n",
       "      <th>7065C8197RUS</th>\n",
       "      <td>2</td>\n",
       "      <td>11400.000000</td>\n",
       "      <td>Volkswagen</td>\n",
       "      <td>Passat</td>\n",
       "    </tr>\n",
       "    <tr>\n",
       "      <th>O22097197RUS</th>\n",
       "      <td>1</td>\n",
       "      <td>24300.000000</td>\n",
       "      <td>Ford</td>\n",
       "      <td>Focus</td>\n",
       "    </tr>\n",
       "    <tr>\n",
       "      <th>M0309X197RUS</th>\n",
       "      <td>1</td>\n",
       "      <td>22300.000000</td>\n",
       "      <td>Ford</td>\n",
       "      <td>Focus</td>\n",
       "    </tr>\n",
       "    <tr>\n",
       "      <th>H419XE197RUS</th>\n",
       "      <td>2</td>\n",
       "      <td>8594.586466</td>\n",
       "      <td>Toyota</td>\n",
       "      <td>Corolla</td>\n",
       "    </tr>\n",
       "  </tbody>\n",
       "</table>\n",
       "<p>455 rows × 4 columns</p>\n",
       "</div>"
      ],
      "text/plain": [
       "              Refund         Fines        Make    Model\n",
       "CarNumber                                              \n",
       "Y163O8161RUS       2   3200.000000        Ford    Focus\n",
       "E432XX77RUS        1   6500.000000      Toyota    Camry\n",
       "92918M178RUS       1   5700.000000        Ford    Focus\n",
       "H234YH197RUS       2   6000.000000        Ford    Focus\n",
       "E40577152RUS       1   8594.586466        Ford    Focus\n",
       "...              ...           ...         ...      ...\n",
       "O718MM163RUS       2   8594.586466        Ford    Focus\n",
       "7065C8197RUS       2  11400.000000  Volkswagen   Passat\n",
       "O22097197RUS       1  24300.000000        Ford    Focus\n",
       "M0309X197RUS       1  22300.000000        Ford    Focus\n",
       "H419XE197RUS       2   8594.586466      Toyota  Corolla\n",
       "\n",
       "[455 rows x 4 columns]"
      ]
     },
     "execution_count": 4,
     "metadata": {},
     "output_type": "execute_result"
    }
   ],
   "source": [
    "df[df['Fines'] > 2100]"
   ]
  },
  {
   "cell_type": "code",
   "execution_count": 5,
   "metadata": {
    "colab": {
     "base_uri": "https://localhost:8080/",
     "height": 455
    },
    "executionInfo": {
     "elapsed": 12,
     "status": "ok",
     "timestamp": 1664040157747,
     "user": {
      "displayName": "Георгий Серикпаев",
      "userId": "01953706835980413447"
     },
     "user_tz": -180
    },
    "id": "_Pulm3ygbXuS",
    "outputId": "9158b07a-8720-4810-e1a8-dfe82948395d"
   },
   "outputs": [
    {
     "data": {
      "text/html": [
       "<div>\n",
       "<style scoped>\n",
       "    .dataframe tbody tr th:only-of-type {\n",
       "        vertical-align: middle;\n",
       "    }\n",
       "\n",
       "    .dataframe tbody tr th {\n",
       "        vertical-align: top;\n",
       "    }\n",
       "\n",
       "    .dataframe thead th {\n",
       "        text-align: right;\n",
       "    }\n",
       "</style>\n",
       "<table border=\"1\" class=\"dataframe\">\n",
       "  <thead>\n",
       "    <tr style=\"text-align: right;\">\n",
       "      <th></th>\n",
       "      <th>Refund</th>\n",
       "      <th>Fines</th>\n",
       "      <th>Make</th>\n",
       "      <th>Model</th>\n",
       "    </tr>\n",
       "    <tr>\n",
       "      <th>CarNumber</th>\n",
       "      <th></th>\n",
       "      <th></th>\n",
       "      <th></th>\n",
       "      <th></th>\n",
       "    </tr>\n",
       "  </thead>\n",
       "  <tbody>\n",
       "    <tr>\n",
       "      <th>Y163O8161RUS</th>\n",
       "      <td>2</td>\n",
       "      <td>3200.000000</td>\n",
       "      <td>Ford</td>\n",
       "      <td>Focus</td>\n",
       "    </tr>\n",
       "    <tr>\n",
       "      <th>H234YH197RUS</th>\n",
       "      <td>2</td>\n",
       "      <td>6000.000000</td>\n",
       "      <td>Ford</td>\n",
       "      <td>Focus</td>\n",
       "    </tr>\n",
       "    <tr>\n",
       "      <th>707987163RUS</th>\n",
       "      <td>2</td>\n",
       "      <td>2200.000000</td>\n",
       "      <td>Ford</td>\n",
       "      <td>Focus</td>\n",
       "    </tr>\n",
       "    <tr>\n",
       "      <th>K330T8197RUS</th>\n",
       "      <td>2</td>\n",
       "      <td>8200.000000</td>\n",
       "      <td>Skoda</td>\n",
       "      <td>Octavia</td>\n",
       "    </tr>\n",
       "    <tr>\n",
       "      <th>M592CH197RUS</th>\n",
       "      <td>2</td>\n",
       "      <td>8594.586466</td>\n",
       "      <td>Skoda</td>\n",
       "      <td>Octavia</td>\n",
       "    </tr>\n",
       "    <tr>\n",
       "      <th>...</th>\n",
       "      <td>...</td>\n",
       "      <td>...</td>\n",
       "      <td>...</td>\n",
       "      <td>...</td>\n",
       "    </tr>\n",
       "    <tr>\n",
       "      <th>O136HO197RUS</th>\n",
       "      <td>2</td>\n",
       "      <td>7800.000000</td>\n",
       "      <td>Toyota</td>\n",
       "      <td>Corolla</td>\n",
       "    </tr>\n",
       "    <tr>\n",
       "      <th>O68897197RUS</th>\n",
       "      <td>2</td>\n",
       "      <td>12300.000000</td>\n",
       "      <td>Ford</td>\n",
       "      <td>Focus</td>\n",
       "    </tr>\n",
       "    <tr>\n",
       "      <th>O718MM163RUS</th>\n",
       "      <td>2</td>\n",
       "      <td>8594.586466</td>\n",
       "      <td>Ford</td>\n",
       "      <td>Focus</td>\n",
       "    </tr>\n",
       "    <tr>\n",
       "      <th>7065C8197RUS</th>\n",
       "      <td>2</td>\n",
       "      <td>11400.000000</td>\n",
       "      <td>Volkswagen</td>\n",
       "      <td>Passat</td>\n",
       "    </tr>\n",
       "    <tr>\n",
       "      <th>H419XE197RUS</th>\n",
       "      <td>2</td>\n",
       "      <td>8594.586466</td>\n",
       "      <td>Toyota</td>\n",
       "      <td>Corolla</td>\n",
       "    </tr>\n",
       "  </tbody>\n",
       "</table>\n",
       "<p>309 rows × 4 columns</p>\n",
       "</div>"
      ],
      "text/plain": [
       "              Refund         Fines        Make    Model\n",
       "CarNumber                                              \n",
       "Y163O8161RUS       2   3200.000000        Ford    Focus\n",
       "H234YH197RUS       2   6000.000000        Ford    Focus\n",
       "707987163RUS       2   2200.000000        Ford    Focus\n",
       "K330T8197RUS       2   8200.000000       Skoda  Octavia\n",
       "M592CH197RUS       2   8594.586466       Skoda  Octavia\n",
       "...              ...           ...         ...      ...\n",
       "O136HO197RUS       2   7800.000000      Toyota  Corolla\n",
       "O68897197RUS       2  12300.000000        Ford    Focus\n",
       "O718MM163RUS       2   8594.586466        Ford    Focus\n",
       "7065C8197RUS       2  11400.000000  Volkswagen   Passat\n",
       "H419XE197RUS       2   8594.586466      Toyota  Corolla\n",
       "\n",
       "[309 rows x 4 columns]"
      ]
     },
     "execution_count": 5,
     "metadata": {},
     "output_type": "execute_result"
    }
   ],
   "source": [
    "df[(df['Fines'] > 2100) & (df['Refund'] == 2)]"
   ]
  },
  {
   "cell_type": "code",
   "execution_count": 6,
   "metadata": {
    "colab": {
     "base_uri": "https://localhost:8080/",
     "height": 455
    },
    "executionInfo": {
     "elapsed": 11,
     "status": "ok",
     "timestamp": 1664040157747,
     "user": {
      "displayName": "Георгий Серикпаев",
      "userId": "01953706835980413447"
     },
     "user_tz": -180
    },
    "id": "DMPNO_IubymT",
    "outputId": "9f9c5377-7b0e-419f-841a-f8a0a9b8a2dc"
   },
   "outputs": [
    {
     "data": {
      "text/html": [
       "<div>\n",
       "<style scoped>\n",
       "    .dataframe tbody tr th:only-of-type {\n",
       "        vertical-align: middle;\n",
       "    }\n",
       "\n",
       "    .dataframe tbody tr th {\n",
       "        vertical-align: top;\n",
       "    }\n",
       "\n",
       "    .dataframe thead th {\n",
       "        text-align: right;\n",
       "    }\n",
       "</style>\n",
       "<table border=\"1\" class=\"dataframe\">\n",
       "  <thead>\n",
       "    <tr style=\"text-align: right;\">\n",
       "      <th></th>\n",
       "      <th>Refund</th>\n",
       "      <th>Fines</th>\n",
       "      <th>Make</th>\n",
       "      <th>Model</th>\n",
       "    </tr>\n",
       "    <tr>\n",
       "      <th>CarNumber</th>\n",
       "      <th></th>\n",
       "      <th></th>\n",
       "      <th></th>\n",
       "      <th></th>\n",
       "    </tr>\n",
       "  </thead>\n",
       "  <tbody>\n",
       "    <tr>\n",
       "      <th>Y163O8161RUS</th>\n",
       "      <td>2</td>\n",
       "      <td>3200.000000</td>\n",
       "      <td>Ford</td>\n",
       "      <td>Focus</td>\n",
       "    </tr>\n",
       "    <tr>\n",
       "      <th>7184TT36RUS</th>\n",
       "      <td>1</td>\n",
       "      <td>2100.000000</td>\n",
       "      <td>Ford</td>\n",
       "      <td>Focus</td>\n",
       "    </tr>\n",
       "    <tr>\n",
       "      <th>X582HE161RUS</th>\n",
       "      <td>2</td>\n",
       "      <td>2000.000000</td>\n",
       "      <td>Ford</td>\n",
       "      <td>Focus</td>\n",
       "    </tr>\n",
       "    <tr>\n",
       "      <th>92918M178RUS</th>\n",
       "      <td>1</td>\n",
       "      <td>5700.000000</td>\n",
       "      <td>Ford</td>\n",
       "      <td>Focus</td>\n",
       "    </tr>\n",
       "    <tr>\n",
       "      <th>H234YH197RUS</th>\n",
       "      <td>2</td>\n",
       "      <td>6000.000000</td>\n",
       "      <td>Ford</td>\n",
       "      <td>Focus</td>\n",
       "    </tr>\n",
       "    <tr>\n",
       "      <th>...</th>\n",
       "      <td>...</td>\n",
       "      <td>...</td>\n",
       "      <td>...</td>\n",
       "      <td>...</td>\n",
       "    </tr>\n",
       "    <tr>\n",
       "      <th>Y163O8161RUS</th>\n",
       "      <td>2</td>\n",
       "      <td>1600.000000</td>\n",
       "      <td>Ford</td>\n",
       "      <td>Focus</td>\n",
       "    </tr>\n",
       "    <tr>\n",
       "      <th>M0309X197RUS</th>\n",
       "      <td>1</td>\n",
       "      <td>22300.000000</td>\n",
       "      <td>Ford</td>\n",
       "      <td>Focus</td>\n",
       "    </tr>\n",
       "    <tr>\n",
       "      <th>O673E8197RUS</th>\n",
       "      <td>2</td>\n",
       "      <td>600.000000</td>\n",
       "      <td>Ford</td>\n",
       "      <td>Focus</td>\n",
       "    </tr>\n",
       "    <tr>\n",
       "      <th>8610T8154RUS</th>\n",
       "      <td>1</td>\n",
       "      <td>2000.000000</td>\n",
       "      <td>Ford</td>\n",
       "      <td>Focus</td>\n",
       "    </tr>\n",
       "    <tr>\n",
       "      <th>H419XE197RUS</th>\n",
       "      <td>2</td>\n",
       "      <td>8594.586466</td>\n",
       "      <td>Toyota</td>\n",
       "      <td>Corolla</td>\n",
       "    </tr>\n",
       "  </tbody>\n",
       "</table>\n",
       "<p>593 rows × 4 columns</p>\n",
       "</div>"
      ],
      "text/plain": [
       "              Refund         Fines    Make    Model\n",
       "CarNumber                                          \n",
       "Y163O8161RUS       2   3200.000000    Ford    Focus\n",
       "7184TT36RUS        1   2100.000000    Ford    Focus\n",
       "X582HE161RUS       2   2000.000000    Ford    Focus\n",
       "92918M178RUS       1   5700.000000    Ford    Focus\n",
       "H234YH197RUS       2   6000.000000    Ford    Focus\n",
       "...              ...           ...     ...      ...\n",
       "Y163O8161RUS       2   1600.000000    Ford    Focus\n",
       "M0309X197RUS       1  22300.000000    Ford    Focus\n",
       "O673E8197RUS       2    600.000000    Ford    Focus\n",
       "8610T8154RUS       1   2000.000000    Ford    Focus\n",
       "H419XE197RUS       2   8594.586466  Toyota  Corolla\n",
       "\n",
       "[593 rows x 4 columns]"
      ]
     },
     "execution_count": 6,
     "metadata": {},
     "output_type": "execute_result"
    }
   ],
   "source": [
    "df[df['Model'].apply(lambda x: x in ['Focus', 'Corolla'])]"
   ]
  },
  {
   "cell_type": "code",
   "execution_count": 7,
   "metadata": {
    "colab": {
     "base_uri": "https://localhost:8080/",
     "height": 645
    },
    "executionInfo": {
     "elapsed": 386,
     "status": "ok",
     "timestamp": 1664040158123,
     "user": {
      "displayName": "Георгий Серикпаев",
      "userId": "01953706835980413447"
     },
     "user_tz": -180
    },
    "id": "-uGFkuiacSDE",
    "outputId": "6f97babf-3265-4736-c094-4a8b25918f57"
   },
   "outputs": [
    {
     "data": {
      "text/html": [
       "<div>\n",
       "<style scoped>\n",
       "    .dataframe tbody tr th:only-of-type {\n",
       "        vertical-align: middle;\n",
       "    }\n",
       "\n",
       "    .dataframe tbody tr th {\n",
       "        vertical-align: top;\n",
       "    }\n",
       "\n",
       "    .dataframe thead th {\n",
       "        text-align: right;\n",
       "    }\n",
       "</style>\n",
       "<table border=\"1\" class=\"dataframe\">\n",
       "  <thead>\n",
       "    <tr style=\"text-align: right;\">\n",
       "      <th></th>\n",
       "      <th>Refund</th>\n",
       "      <th>Fines</th>\n",
       "      <th>Make</th>\n",
       "      <th>Model</th>\n",
       "    </tr>\n",
       "    <tr>\n",
       "      <th>CarNumber</th>\n",
       "      <th></th>\n",
       "      <th></th>\n",
       "      <th></th>\n",
       "      <th></th>\n",
       "    </tr>\n",
       "  </thead>\n",
       "  <tbody>\n",
       "    <tr>\n",
       "      <th>92928M178RUS</th>\n",
       "      <td>1</td>\n",
       "      <td>8594.586466</td>\n",
       "      <td>Ford</td>\n",
       "      <td>Focus</td>\n",
       "    </tr>\n",
       "    <tr>\n",
       "      <th>H115YO163RUS</th>\n",
       "      <td>1</td>\n",
       "      <td>2200.000000</td>\n",
       "      <td>Ford</td>\n",
       "      <td>Focus</td>\n",
       "    </tr>\n",
       "    <tr>\n",
       "      <th>7788KT197RUS</th>\n",
       "      <td>2</td>\n",
       "      <td>12000.000000</td>\n",
       "      <td>Ford</td>\n",
       "      <td>Focus</td>\n",
       "    </tr>\n",
       "    <tr>\n",
       "      <th>X758HY197RUS</th>\n",
       "      <td>2</td>\n",
       "      <td>24200.000000</td>\n",
       "      <td>Ford</td>\n",
       "      <td>Focus</td>\n",
       "    </tr>\n",
       "    <tr>\n",
       "      <th>X758HY197RUS</th>\n",
       "      <td>2</td>\n",
       "      <td>72600.000000</td>\n",
       "      <td>Ford</td>\n",
       "      <td>Focus</td>\n",
       "    </tr>\n",
       "    <tr>\n",
       "      <th>Y7689C197RUS</th>\n",
       "      <td>1</td>\n",
       "      <td>27000.000000</td>\n",
       "      <td>Ford</td>\n",
       "      <td>Focus</td>\n",
       "    </tr>\n",
       "    <tr>\n",
       "      <th>92928M178RUS</th>\n",
       "      <td>1</td>\n",
       "      <td>600.000000</td>\n",
       "      <td>Ford</td>\n",
       "      <td>Focus</td>\n",
       "    </tr>\n",
       "    <tr>\n",
       "      <th>H115YO163RUS</th>\n",
       "      <td>1</td>\n",
       "      <td>8594.586466</td>\n",
       "      <td>Ford</td>\n",
       "      <td>Focus</td>\n",
       "    </tr>\n",
       "    <tr>\n",
       "      <th>H115YO163RUS</th>\n",
       "      <td>2</td>\n",
       "      <td>1100.000000</td>\n",
       "      <td>Ford</td>\n",
       "      <td>Focus</td>\n",
       "    </tr>\n",
       "    <tr>\n",
       "      <th>7788KT197RUS</th>\n",
       "      <td>2</td>\n",
       "      <td>8594.586466</td>\n",
       "      <td>Ford</td>\n",
       "      <td>Focus</td>\n",
       "    </tr>\n",
       "    <tr>\n",
       "      <th>7788KT197RUS</th>\n",
       "      <td>1</td>\n",
       "      <td>20000.000000</td>\n",
       "      <td>Ford</td>\n",
       "      <td>Focus</td>\n",
       "    </tr>\n",
       "    <tr>\n",
       "      <th>X758HY197RUS</th>\n",
       "      <td>2</td>\n",
       "      <td>145200.000000</td>\n",
       "      <td>Ford</td>\n",
       "      <td>Focus</td>\n",
       "    </tr>\n",
       "    <tr>\n",
       "      <th>92928M178RUS</th>\n",
       "      <td>1</td>\n",
       "      <td>1200.000000</td>\n",
       "      <td>Ford</td>\n",
       "      <td>Focus</td>\n",
       "    </tr>\n",
       "    <tr>\n",
       "      <th>Y7689C197RUS</th>\n",
       "      <td>2</td>\n",
       "      <td>9000.000000</td>\n",
       "      <td>Ford</td>\n",
       "      <td>Focus</td>\n",
       "    </tr>\n",
       "    <tr>\n",
       "      <th>Y7689C197RUS</th>\n",
       "      <td>2</td>\n",
       "      <td>45000.000000</td>\n",
       "      <td>Ford</td>\n",
       "      <td>Focus</td>\n",
       "    </tr>\n",
       "    <tr>\n",
       "      <th>7788KT197RUS</th>\n",
       "      <td>2</td>\n",
       "      <td>4000.000000</td>\n",
       "      <td>Ford</td>\n",
       "      <td>Focus</td>\n",
       "    </tr>\n",
       "    <tr>\n",
       "      <th>Y7689C197RUS</th>\n",
       "      <td>1</td>\n",
       "      <td>36000.000000</td>\n",
       "      <td>Ford</td>\n",
       "      <td>Focus</td>\n",
       "    </tr>\n",
       "    <tr>\n",
       "      <th>92928M178RUS</th>\n",
       "      <td>2</td>\n",
       "      <td>3000.000000</td>\n",
       "      <td>Ford</td>\n",
       "      <td>Focus</td>\n",
       "    </tr>\n",
       "  </tbody>\n",
       "</table>\n",
       "</div>"
      ],
      "text/plain": [
       "              Refund          Fines  Make  Model\n",
       "CarNumber                                       \n",
       "92928M178RUS       1    8594.586466  Ford  Focus\n",
       "H115YO163RUS       1    2200.000000  Ford  Focus\n",
       "7788KT197RUS       2   12000.000000  Ford  Focus\n",
       "X758HY197RUS       2   24200.000000  Ford  Focus\n",
       "X758HY197RUS       2   72600.000000  Ford  Focus\n",
       "Y7689C197RUS       1   27000.000000  Ford  Focus\n",
       "92928M178RUS       1     600.000000  Ford  Focus\n",
       "H115YO163RUS       1    8594.586466  Ford  Focus\n",
       "H115YO163RUS       2    1100.000000  Ford  Focus\n",
       "7788KT197RUS       2    8594.586466  Ford  Focus\n",
       "7788KT197RUS       1   20000.000000  Ford  Focus\n",
       "X758HY197RUS       2  145200.000000  Ford  Focus\n",
       "92928M178RUS       1    1200.000000  Ford  Focus\n",
       "Y7689C197RUS       2    9000.000000  Ford  Focus\n",
       "Y7689C197RUS       2   45000.000000  Ford  Focus\n",
       "7788KT197RUS       2    4000.000000  Ford  Focus\n",
       "Y7689C197RUS       1   36000.000000  Ford  Focus\n",
       "92928M178RUS       2    3000.000000  Ford  Focus"
      ]
     },
     "execution_count": 7,
     "metadata": {},
     "output_type": "execute_result"
    }
   ],
   "source": [
    "df[df.index.isin(['Y7689C197RUS',\n",
    "'92928M178RUS', '7788KT197RUS', 'H115YO163RUS', 'X758HY197RUS'])]"
   ]
  },
  {
   "cell_type": "markdown",
   "metadata": {
    "id": "204zKUXNcnYF"
   },
   "source": [
    "## make the aggregations with the make and the model"
   ]
  },
  {
   "cell_type": "code",
   "execution_count": 8,
   "metadata": {
    "colab": {
     "base_uri": "https://localhost:8080/"
    },
    "executionInfo": {
     "elapsed": 20,
     "status": "ok",
     "timestamp": 1664040158123,
     "user": {
      "displayName": "Георгий Серикпаев",
      "userId": "01953706835980413447"
     },
     "user_tz": -180
    },
    "id": "AmUOz2Cfcoft",
    "outputId": "319125b4-c81d-4ecf-f415-e9028a767233"
   },
   "outputs": [
    {
     "data": {
      "text/plain": [
       "Make\n",
       "Audi          4200.0\n",
       "BMW           6500.0\n",
       "Ford          3500.0\n",
       "Skoda         3250.0\n",
       "Toyota        7700.0\n",
       "Volkswagen    4300.0\n",
       "Volvo         8500.0\n",
       "Name: Fines, dtype: float64"
      ]
     },
     "execution_count": 8,
     "metadata": {},
     "output_type": "execute_result"
    }
   ],
   "source": [
    "df.groupby('Make').median()['Fines']"
   ]
  },
  {
   "cell_type": "code",
   "execution_count": 9,
   "metadata": {
    "colab": {
     "base_uri": "https://localhost:8080/"
    },
    "executionInfo": {
     "elapsed": 20,
     "status": "ok",
     "timestamp": 1664040158124,
     "user": {
      "displayName": "Георгий Серикпаев",
      "userId": "01953706835980413447"
     },
     "user_tz": -180
    },
    "id": "CgGgkec5c64s",
    "outputId": "98b4b411-d32e-4795-bdb3-7770e6e7c648"
   },
   "outputs": [
    {
     "data": {
      "text/plain": [
       "Make        Model  \n",
       "Ford        Focus      3500.0\n",
       "            Mondeo     7650.0\n",
       "Skoda       Octavia    3250.0\n",
       "Toyota      Camry      7700.0\n",
       "            Corolla    7700.0\n",
       "Volkswagen  Golf       4800.0\n",
       "            Jetta      2800.0\n",
       "            Passat     3500.0\n",
       "            Touareg    5800.0\n",
       "Name: Fines, dtype: float64"
      ]
     },
     "execution_count": 9,
     "metadata": {},
     "output_type": "execute_result"
    }
   ],
   "source": [
    "df.groupby(['Make', 'Model']).median()['Fines']"
   ]
  },
  {
   "cell_type": "code",
   "execution_count": 10,
   "metadata": {
    "colab": {
     "base_uri": "https://localhost:8080/"
    },
    "executionInfo": {
     "elapsed": 18,
     "status": "ok",
     "timestamp": 1664040158124,
     "user": {
      "displayName": "Георгий Серикпаев",
      "userId": "01953706835980413447"
     },
     "user_tz": -180
    },
    "id": "vaMb3EPleBBY",
    "outputId": "3154ce62-8b6a-4a13-f4e1-036cbb1c4cc5"
   },
   "outputs": [
    {
     "data": {
      "text/plain": [
       "Make        Model  \n",
       "Ford        Focus      575\n",
       "            Mondeo       6\n",
       "Skoda       Octavia     48\n",
       "Toyota      Camry       16\n",
       "            Corolla     18\n",
       "Volkswagen  Golf        20\n",
       "            Jetta        6\n",
       "            Passat      22\n",
       "            Touareg      5\n",
       "Name: Fines, dtype: int64"
      ]
     },
     "execution_count": 10,
     "metadata": {},
     "output_type": "execute_result"
    }
   ],
   "source": [
    "df.groupby(['Make', 'Model']).count()['Fines']"
   ]
  },
  {
   "cell_type": "code",
   "execution_count": 11,
   "metadata": {
    "colab": {
     "base_uri": "https://localhost:8080/"
    },
    "executionInfo": {
     "elapsed": 16,
     "status": "ok",
     "timestamp": 1664040158124,
     "user": {
      "displayName": "Георгий Серикпаев",
      "userId": "01953706835980413447"
     },
     "user_tz": -180
    },
    "id": "J_P-nNG3ey2G",
    "outputId": "7b062d48-e2e1-446a-d65f-38250237c54a"
   },
   "outputs": [
    {
     "data": {
      "text/plain": [
       "Make        Model  \n",
       "Ford        Focus       100.0\n",
       "            Mondeo     1100.0\n",
       "Skoda       Octavia     300.0\n",
       "Toyota      Camry       500.0\n",
       "            Corolla     900.0\n",
       "Volkswagen  Golf        200.0\n",
       "            Jetta       500.0\n",
       "            Passat      100.0\n",
       "            Touareg     500.0\n",
       "Name: Fines, dtype: float64"
      ]
     },
     "execution_count": 11,
     "metadata": {},
     "output_type": "execute_result"
    }
   ],
   "source": [
    "df.groupby(['Make', 'Model']).min()['Fines']"
   ]
  },
  {
   "cell_type": "code",
   "execution_count": 12,
   "metadata": {
    "colab": {
     "base_uri": "https://localhost:8080/"
    },
    "executionInfo": {
     "elapsed": 16,
     "status": "ok",
     "timestamp": 1664040158125,
     "user": {
      "displayName": "Георгий Серикпаев",
      "userId": "01953706835980413447"
     },
     "user_tz": -180
    },
    "id": "Wh4njjuPe0hG",
    "outputId": "59c9ee2e-7010-41c6-eda1-fce7e4ae19de"
   },
   "outputs": [
    {
     "data": {
      "text/plain": [
       "Make        Model  \n",
       "Ford        Focus      180000.000000\n",
       "            Mondeo      46200.000000\n",
       "Skoda       Octavia    145000.000000\n",
       "Toyota      Camry       22400.000000\n",
       "            Corolla     34300.000000\n",
       "Volkswagen  Golf       168000.000000\n",
       "            Jetta       46000.000000\n",
       "            Passat      29700.000000\n",
       "            Touareg      8594.586466\n",
       "Name: Fines, dtype: float64"
      ]
     },
     "execution_count": 12,
     "metadata": {},
     "output_type": "execute_result"
    }
   ],
   "source": [
    "df.groupby(['Make', 'Model']).max()['Fines']"
   ]
  },
  {
   "cell_type": "code",
   "execution_count": 13,
   "metadata": {
    "colab": {
     "base_uri": "https://localhost:8080/"
    },
    "executionInfo": {
     "elapsed": 16,
     "status": "ok",
     "timestamp": 1664040158126,
     "user": {
      "displayName": "Георгий Серикпаев",
      "userId": "01953706835980413447"
     },
     "user_tz": -180
    },
    "id": "hWgr6W9ae3n_",
    "outputId": "7996caa4-92bd-4822-ad0c-d8f2d16a5c09"
   },
   "outputs": [
    {
     "data": {
      "text/plain": [
       "Make        Model  \n",
       "Ford        Focus      15041.269437\n",
       "            Mondeo     18987.329108\n",
       "Skoda       Octavia    24339.742174\n",
       "Toyota      Camry       6410.250654\n",
       "            Corolla     9629.325617\n",
       "Volkswagen  Golf       36950.839950\n",
       "            Jetta      17743.026799\n",
       "            Passat      6969.739135\n",
       "            Touareg     3461.778173\n",
       "Name: Fines, dtype: float64"
      ]
     },
     "execution_count": 13,
     "metadata": {},
     "output_type": "execute_result"
    }
   ],
   "source": [
    "df.groupby(['Make', 'Model']).std()['Fines']"
   ]
  },
  {
   "cell_type": "markdown",
   "metadata": {
    "id": "bVv57_mme9Gg"
   },
   "source": [
    "## make the aggregations with the car number"
   ]
  },
  {
   "cell_type": "code",
   "execution_count": 14,
   "metadata": {
    "colab": {
     "base_uri": "https://localhost:8080/",
     "height": 455
    },
    "executionInfo": {
     "elapsed": 15,
     "status": "ok",
     "timestamp": 1664040158127,
     "user": {
      "displayName": "Георгий Серикпаев",
      "userId": "01953706835980413447"
     },
     "user_tz": -180
    },
    "id": "SQ4h27Xge-M9",
    "outputId": "dfb6eaaa-6cac-44bb-d804-a0a07229acf9"
   },
   "outputs": [
    {
     "data": {
      "text/html": [
       "<div>\n",
       "<style scoped>\n",
       "    .dataframe tbody tr th:only-of-type {\n",
       "        vertical-align: middle;\n",
       "    }\n",
       "\n",
       "    .dataframe tbody tr th {\n",
       "        vertical-align: top;\n",
       "    }\n",
       "\n",
       "    .dataframe thead th {\n",
       "        text-align: right;\n",
       "    }\n",
       "</style>\n",
       "<table border=\"1\" class=\"dataframe\">\n",
       "  <thead>\n",
       "    <tr style=\"text-align: right;\">\n",
       "      <th></th>\n",
       "      <th>Fines</th>\n",
       "    </tr>\n",
       "    <tr>\n",
       "      <th>CarNumber</th>\n",
       "      <th></th>\n",
       "    </tr>\n",
       "  </thead>\n",
       "  <tbody>\n",
       "    <tr>\n",
       "      <th>Y7689C197RUS</th>\n",
       "      <td>4</td>\n",
       "    </tr>\n",
       "    <tr>\n",
       "      <th>92928M178RUS</th>\n",
       "      <td>4</td>\n",
       "    </tr>\n",
       "    <tr>\n",
       "      <th>7788KT197RUS</th>\n",
       "      <td>4</td>\n",
       "    </tr>\n",
       "    <tr>\n",
       "      <th>H115YO163RUS</th>\n",
       "      <td>3</td>\n",
       "    </tr>\n",
       "    <tr>\n",
       "      <th>X758HY197RUS</th>\n",
       "      <td>3</td>\n",
       "    </tr>\n",
       "    <tr>\n",
       "      <th>...</th>\n",
       "      <td>...</td>\n",
       "    </tr>\n",
       "    <tr>\n",
       "      <th>E42577152RUS</th>\n",
       "      <td>1</td>\n",
       "    </tr>\n",
       "    <tr>\n",
       "      <th>E42377152RUS</th>\n",
       "      <td>1</td>\n",
       "    </tr>\n",
       "    <tr>\n",
       "      <th>E41977152RUS</th>\n",
       "      <td>1</td>\n",
       "    </tr>\n",
       "    <tr>\n",
       "      <th>E41577152RUS</th>\n",
       "      <td>1</td>\n",
       "    </tr>\n",
       "    <tr>\n",
       "      <th>H917TC36RUS</th>\n",
       "      <td>1</td>\n",
       "    </tr>\n",
       "  </tbody>\n",
       "</table>\n",
       "<p>531 rows × 1 columns</p>\n",
       "</div>"
      ],
      "text/plain": [
       "              Fines\n",
       "CarNumber          \n",
       "Y7689C197RUS      4\n",
       "92928M178RUS      4\n",
       "7788KT197RUS      4\n",
       "H115YO163RUS      3\n",
       "X758HY197RUS      3\n",
       "...             ...\n",
       "E42577152RUS      1\n",
       "E42377152RUS      1\n",
       "E41977152RUS      1\n",
       "E41577152RUS      1\n",
       "H917TC36RUS       1\n",
       "\n",
       "[531 rows x 1 columns]"
      ]
     },
     "execution_count": 14,
     "metadata": {},
     "output_type": "execute_result"
    }
   ],
   "source": [
    "count_fines = df.groupby('CarNumber').count()['Fines'].reset_index().sort_values('Fines', ascending = False).set_index('CarNumber')\n",
    "count_fines"
   ]
  },
  {
   "cell_type": "code",
   "execution_count": 15,
   "metadata": {
    "colab": {
     "base_uri": "https://localhost:8080/",
     "height": 206
    },
    "executionInfo": {
     "elapsed": 14,
     "status": "ok",
     "timestamp": 1664040158127,
     "user": {
      "displayName": "Георгий Серикпаев",
      "userId": "01953706835980413447"
     },
     "user_tz": -180
    },
    "id": "qqa6T6z3g21a",
    "outputId": "6da33c1a-5110-4186-f671-295973b34f33"
   },
   "outputs": [
    {
     "data": {
      "text/html": [
       "<div>\n",
       "<style scoped>\n",
       "    .dataframe tbody tr th:only-of-type {\n",
       "        vertical-align: middle;\n",
       "    }\n",
       "\n",
       "    .dataframe tbody tr th {\n",
       "        vertical-align: top;\n",
       "    }\n",
       "\n",
       "    .dataframe thead th {\n",
       "        text-align: right;\n",
       "    }\n",
       "</style>\n",
       "<table border=\"1\" class=\"dataframe\">\n",
       "  <thead>\n",
       "    <tr style=\"text-align: right;\">\n",
       "      <th></th>\n",
       "      <th>Refund</th>\n",
       "      <th>Fines</th>\n",
       "      <th>Make</th>\n",
       "      <th>Model</th>\n",
       "    </tr>\n",
       "    <tr>\n",
       "      <th>CarNumber</th>\n",
       "      <th></th>\n",
       "      <th></th>\n",
       "      <th></th>\n",
       "      <th></th>\n",
       "    </tr>\n",
       "  </thead>\n",
       "  <tbody>\n",
       "    <tr>\n",
       "      <th>Y7689C197RUS</th>\n",
       "      <td>1</td>\n",
       "      <td>27000.0</td>\n",
       "      <td>Ford</td>\n",
       "      <td>Focus</td>\n",
       "    </tr>\n",
       "    <tr>\n",
       "      <th>Y7689C197RUS</th>\n",
       "      <td>2</td>\n",
       "      <td>9000.0</td>\n",
       "      <td>Ford</td>\n",
       "      <td>Focus</td>\n",
       "    </tr>\n",
       "    <tr>\n",
       "      <th>Y7689C197RUS</th>\n",
       "      <td>2</td>\n",
       "      <td>45000.0</td>\n",
       "      <td>Ford</td>\n",
       "      <td>Focus</td>\n",
       "    </tr>\n",
       "    <tr>\n",
       "      <th>Y7689C197RUS</th>\n",
       "      <td>1</td>\n",
       "      <td>36000.0</td>\n",
       "      <td>Ford</td>\n",
       "      <td>Focus</td>\n",
       "    </tr>\n",
       "  </tbody>\n",
       "</table>\n",
       "</div>"
      ],
      "text/plain": [
       "              Refund    Fines  Make  Model\n",
       "CarNumber                                 \n",
       "Y7689C197RUS       1  27000.0  Ford  Focus\n",
       "Y7689C197RUS       2   9000.0  Ford  Focus\n",
       "Y7689C197RUS       2  45000.0  Ford  Focus\n",
       "Y7689C197RUS       1  36000.0  Ford  Focus"
      ]
     },
     "execution_count": 15,
     "metadata": {},
     "output_type": "execute_result"
    }
   ],
   "source": [
    "df.loc[count_fines.head(1).index[0]]"
   ]
  },
  {
   "cell_type": "code",
   "execution_count": 16,
   "metadata": {
    "colab": {
     "base_uri": "https://localhost:8080/",
     "height": 455
    },
    "executionInfo": {
     "elapsed": 14,
     "status": "ok",
     "timestamp": 1664040158128,
     "user": {
      "displayName": "Георгий Серикпаев",
      "userId": "01953706835980413447"
     },
     "user_tz": -180
    },
    "id": "PvIgMxKhhFiP",
    "outputId": "357fa875-b939-4b00-f54d-18e8be2ef2a4"
   },
   "outputs": [
    {
     "data": {
      "text/html": [
       "<div>\n",
       "<style scoped>\n",
       "    .dataframe tbody tr th:only-of-type {\n",
       "        vertical-align: middle;\n",
       "    }\n",
       "\n",
       "    .dataframe tbody tr th {\n",
       "        vertical-align: top;\n",
       "    }\n",
       "\n",
       "    .dataframe thead th {\n",
       "        text-align: right;\n",
       "    }\n",
       "</style>\n",
       "<table border=\"1\" class=\"dataframe\">\n",
       "  <thead>\n",
       "    <tr style=\"text-align: right;\">\n",
       "      <th></th>\n",
       "      <th>Fines</th>\n",
       "    </tr>\n",
       "    <tr>\n",
       "      <th>CarNumber</th>\n",
       "      <th></th>\n",
       "    </tr>\n",
       "  </thead>\n",
       "  <tbody>\n",
       "    <tr>\n",
       "      <th>X758HY197RUS</th>\n",
       "      <td>242000.0</td>\n",
       "    </tr>\n",
       "    <tr>\n",
       "      <th>9020YC197RUS</th>\n",
       "      <td>217500.0</td>\n",
       "    </tr>\n",
       "    <tr>\n",
       "      <th>M0279X197RUS</th>\n",
       "      <td>216000.0</td>\n",
       "    </tr>\n",
       "    <tr>\n",
       "      <th>Y352O8197RUS</th>\n",
       "      <td>207200.0</td>\n",
       "    </tr>\n",
       "    <tr>\n",
       "      <th>Y778EE197RUS</th>\n",
       "      <td>192000.0</td>\n",
       "    </tr>\n",
       "    <tr>\n",
       "      <th>...</th>\n",
       "      <td>...</td>\n",
       "    </tr>\n",
       "    <tr>\n",
       "      <th>83218C154RUS</th>\n",
       "      <td>100.0</td>\n",
       "    </tr>\n",
       "    <tr>\n",
       "      <th>Y195O8161RUS</th>\n",
       "      <td>100.0</td>\n",
       "    </tr>\n",
       "    <tr>\n",
       "      <th>K376HE161RUS</th>\n",
       "      <td>100.0</td>\n",
       "    </tr>\n",
       "    <tr>\n",
       "      <th>705787163RUS</th>\n",
       "      <td>100.0</td>\n",
       "    </tr>\n",
       "    <tr>\n",
       "      <th>K326T8197RUS</th>\n",
       "      <td>100.0</td>\n",
       "    </tr>\n",
       "  </tbody>\n",
       "</table>\n",
       "<p>531 rows × 1 columns</p>\n",
       "</div>"
      ],
      "text/plain": [
       "                 Fines\n",
       "CarNumber             \n",
       "X758HY197RUS  242000.0\n",
       "9020YC197RUS  217500.0\n",
       "M0279X197RUS  216000.0\n",
       "Y352O8197RUS  207200.0\n",
       "Y778EE197RUS  192000.0\n",
       "...                ...\n",
       "83218C154RUS     100.0\n",
       "Y195O8161RUS     100.0\n",
       "K376HE161RUS     100.0\n",
       "705787163RUS     100.0\n",
       "K326T8197RUS     100.0\n",
       "\n",
       "[531 rows x 1 columns]"
      ]
     },
     "execution_count": 16,
     "metadata": {},
     "output_type": "execute_result"
    }
   ],
   "source": [
    "sum_fines = df.groupby('CarNumber').sum()['Fines'].reset_index().sort_values('Fines', ascending = False).set_index('CarNumber')\n",
    "sum_fines"
   ]
  },
  {
   "cell_type": "code",
   "execution_count": 86,
   "metadata": {
    "colab": {
     "base_uri": "https://localhost:8080/",
     "height": 175
    },
    "executionInfo": {
     "elapsed": 4,
     "status": "ok",
     "timestamp": 1664040188850,
     "user": {
      "displayName": "Георгий Серикпаев",
      "userId": "01953706835980413447"
     },
     "user_tz": -180
    },
    "id": "vLE5l7X_hcye",
    "outputId": "af638e2e-dc17-4ed4-e3d2-b0d273c62f75"
   },
   "outputs": [
    {
     "data": {
      "text/html": [
       "\n",
       "  <div id=\"df-e269bbf8-bcf1-4def-b0f1-3b3484e8d466\">\n",
       "    <div class=\"colab-df-container\">\n",
       "      <div>\n",
       "<style scoped>\n",
       "    .dataframe tbody tr th:only-of-type {\n",
       "        vertical-align: middle;\n",
       "    }\n",
       "\n",
       "    .dataframe tbody tr th {\n",
       "        vertical-align: top;\n",
       "    }\n",
       "\n",
       "    .dataframe thead th {\n",
       "        text-align: right;\n",
       "    }\n",
       "</style>\n",
       "<table border=\"1\" class=\"dataframe\">\n",
       "  <thead>\n",
       "    <tr style=\"text-align: right;\">\n",
       "      <th></th>\n",
       "      <th>Refund</th>\n",
       "      <th>Fines</th>\n",
       "      <th>Make</th>\n",
       "      <th>Model</th>\n",
       "    </tr>\n",
       "    <tr>\n",
       "      <th>CarNumber</th>\n",
       "      <th></th>\n",
       "      <th></th>\n",
       "      <th></th>\n",
       "      <th></th>\n",
       "    </tr>\n",
       "  </thead>\n",
       "  <tbody>\n",
       "    <tr>\n",
       "      <th>X758HY197RUS</th>\n",
       "      <td>2</td>\n",
       "      <td>24200.0</td>\n",
       "      <td>Ford</td>\n",
       "      <td>Focus</td>\n",
       "    </tr>\n",
       "    <tr>\n",
       "      <th>X758HY197RUS</th>\n",
       "      <td>2</td>\n",
       "      <td>72600.0</td>\n",
       "      <td>Ford</td>\n",
       "      <td>Focus</td>\n",
       "    </tr>\n",
       "    <tr>\n",
       "      <th>X758HY197RUS</th>\n",
       "      <td>2</td>\n",
       "      <td>145200.0</td>\n",
       "      <td>Ford</td>\n",
       "      <td>Focus</td>\n",
       "    </tr>\n",
       "  </tbody>\n",
       "</table>\n",
       "</div>\n",
       "      <button class=\"colab-df-convert\" onclick=\"convertToInteractive('df-e269bbf8-bcf1-4def-b0f1-3b3484e8d466')\"\n",
       "              title=\"Convert this dataframe to an interactive table.\"\n",
       "              style=\"display:none;\">\n",
       "        \n",
       "  <svg xmlns=\"http://www.w3.org/2000/svg\" height=\"24px\"viewBox=\"0 0 24 24\"\n",
       "       width=\"24px\">\n",
       "    <path d=\"M0 0h24v24H0V0z\" fill=\"none\"/>\n",
       "    <path d=\"M18.56 5.44l.94 2.06.94-2.06 2.06-.94-2.06-.94-.94-2.06-.94 2.06-2.06.94zm-11 1L8.5 8.5l.94-2.06 2.06-.94-2.06-.94L8.5 2.5l-.94 2.06-2.06.94zm10 10l.94 2.06.94-2.06 2.06-.94-2.06-.94-.94-2.06-.94 2.06-2.06.94z\"/><path d=\"M17.41 7.96l-1.37-1.37c-.4-.4-.92-.59-1.43-.59-.52 0-1.04.2-1.43.59L10.3 9.45l-7.72 7.72c-.78.78-.78 2.05 0 2.83L4 21.41c.39.39.9.59 1.41.59.51 0 1.02-.2 1.41-.59l7.78-7.78 2.81-2.81c.8-.78.8-2.07 0-2.86zM5.41 20L4 18.59l7.72-7.72 1.47 1.35L5.41 20z\"/>\n",
       "  </svg>\n",
       "      </button>\n",
       "      \n",
       "  <style>\n",
       "    .colab-df-container {\n",
       "      display:flex;\n",
       "      flex-wrap:wrap;\n",
       "      gap: 12px;\n",
       "    }\n",
       "\n",
       "    .colab-df-convert {\n",
       "      background-color: #E8F0FE;\n",
       "      border: none;\n",
       "      border-radius: 50%;\n",
       "      cursor: pointer;\n",
       "      display: none;\n",
       "      fill: #1967D2;\n",
       "      height: 32px;\n",
       "      padding: 0 0 0 0;\n",
       "      width: 32px;\n",
       "    }\n",
       "\n",
       "    .colab-df-convert:hover {\n",
       "      background-color: #E2EBFA;\n",
       "      box-shadow: 0px 1px 2px rgba(60, 64, 67, 0.3), 0px 1px 3px 1px rgba(60, 64, 67, 0.15);\n",
       "      fill: #174EA6;\n",
       "    }\n",
       "\n",
       "    [theme=dark] .colab-df-convert {\n",
       "      background-color: #3B4455;\n",
       "      fill: #D2E3FC;\n",
       "    }\n",
       "\n",
       "    [theme=dark] .colab-df-convert:hover {\n",
       "      background-color: #434B5C;\n",
       "      box-shadow: 0px 1px 3px 1px rgba(0, 0, 0, 0.15);\n",
       "      filter: drop-shadow(0px 1px 2px rgba(0, 0, 0, 0.3));\n",
       "      fill: #FFFFFF;\n",
       "    }\n",
       "  </style>\n",
       "\n",
       "      <script>\n",
       "        const buttonEl =\n",
       "          document.querySelector('#df-e269bbf8-bcf1-4def-b0f1-3b3484e8d466 button.colab-df-convert');\n",
       "        buttonEl.style.display =\n",
       "          google.colab.kernel.accessAllowed ? 'block' : 'none';\n",
       "\n",
       "        async function convertToInteractive(key) {\n",
       "          const element = document.querySelector('#df-e269bbf8-bcf1-4def-b0f1-3b3484e8d466');\n",
       "          const dataTable =\n",
       "            await google.colab.kernel.invokeFunction('convertToInteractive',\n",
       "                                                     [key], {});\n",
       "          if (!dataTable) return;\n",
       "\n",
       "          const docLinkHtml = 'Like what you see? Visit the ' +\n",
       "            '<a target=\"_blank\" href=https://colab.research.google.com/notebooks/data_table.ipynb>data table notebook</a>'\n",
       "            + ' to learn more about interactive tables.';\n",
       "          element.innerHTML = '';\n",
       "          dataTable['output_type'] = 'display_data';\n",
       "          await google.colab.output.renderOutput(dataTable, element);\n",
       "          const docLink = document.createElement('div');\n",
       "          docLink.innerHTML = docLinkHtml;\n",
       "          element.appendChild(docLink);\n",
       "        }\n",
       "      </script>\n",
       "    </div>\n",
       "  </div>\n",
       "  "
      ],
      "text/plain": [
       "              Refund     Fines  Make  Model\n",
       "CarNumber                                  \n",
       "X758HY197RUS       2   24200.0  Ford  Focus\n",
       "X758HY197RUS       2   72600.0  Ford  Focus\n",
       "X758HY197RUS       2  145200.0  Ford  Focus"
      ]
     },
     "execution_count": 86,
     "metadata": {},
     "output_type": "execute_result"
    }
   ],
   "source": [
    "df.loc[sum_fines.head(1).index[0]]"
   ]
  },
  {
   "cell_type": "code",
   "execution_count": 98,
   "metadata": {
    "colab": {
     "base_uri": "https://localhost:8080/",
     "height": 143
    },
    "executionInfo": {
     "elapsed": 5,
     "status": "ok",
     "timestamp": 1664040603374,
     "user": {
      "displayName": "Георгий Серикпаев",
      "userId": "01953706835980413447"
     },
     "user_tz": -180
    },
    "id": "MZeT_vNMhkJe",
    "outputId": "19b04148-c9d7-4191-beb3-5318dc099889"
   },
   "outputs": [
    {
     "data": {
      "text/html": [
       "\n",
       "  <div id=\"df-f56b5c7d-a1e2-473f-9b65-774b223443b0\">\n",
       "    <div class=\"colab-df-container\">\n",
       "      <div>\n",
       "<style scoped>\n",
       "    .dataframe tbody tr th:only-of-type {\n",
       "        vertical-align: middle;\n",
       "    }\n",
       "\n",
       "    .dataframe tbody tr th {\n",
       "        vertical-align: top;\n",
       "    }\n",
       "\n",
       "    .dataframe thead th {\n",
       "        text-align: right;\n",
       "    }\n",
       "</style>\n",
       "<table border=\"1\" class=\"dataframe\">\n",
       "  <thead>\n",
       "    <tr style=\"text-align: right;\">\n",
       "      <th></th>\n",
       "      <th>Refund</th>\n",
       "      <th>Fines</th>\n",
       "      <th>Make</th>\n",
       "      <th>Model</th>\n",
       "    </tr>\n",
       "    <tr>\n",
       "      <th>CarNumber</th>\n",
       "      <th></th>\n",
       "      <th></th>\n",
       "      <th></th>\n",
       "      <th></th>\n",
       "    </tr>\n",
       "  </thead>\n",
       "  <tbody>\n",
       "    <tr>\n",
       "      <th>E316EH197RUS</th>\n",
       "      <td>1</td>\n",
       "      <td>1300.0</td>\n",
       "      <td>Volkswagen</td>\n",
       "      <td>None</td>\n",
       "    </tr>\n",
       "    <tr>\n",
       "      <th>E316EH197RUS</th>\n",
       "      <td>1</td>\n",
       "      <td>1300.0</td>\n",
       "      <td>Volkswagen</td>\n",
       "      <td>Touareg</td>\n",
       "    </tr>\n",
       "  </tbody>\n",
       "</table>\n",
       "</div>\n",
       "      <button class=\"colab-df-convert\" onclick=\"convertToInteractive('df-f56b5c7d-a1e2-473f-9b65-774b223443b0')\"\n",
       "              title=\"Convert this dataframe to an interactive table.\"\n",
       "              style=\"display:none;\">\n",
       "        \n",
       "  <svg xmlns=\"http://www.w3.org/2000/svg\" height=\"24px\"viewBox=\"0 0 24 24\"\n",
       "       width=\"24px\">\n",
       "    <path d=\"M0 0h24v24H0V0z\" fill=\"none\"/>\n",
       "    <path d=\"M18.56 5.44l.94 2.06.94-2.06 2.06-.94-2.06-.94-.94-2.06-.94 2.06-2.06.94zm-11 1L8.5 8.5l.94-2.06 2.06-.94-2.06-.94L8.5 2.5l-.94 2.06-2.06.94zm10 10l.94 2.06.94-2.06 2.06-.94-2.06-.94-.94-2.06-.94 2.06-2.06.94z\"/><path d=\"M17.41 7.96l-1.37-1.37c-.4-.4-.92-.59-1.43-.59-.52 0-1.04.2-1.43.59L10.3 9.45l-7.72 7.72c-.78.78-.78 2.05 0 2.83L4 21.41c.39.39.9.59 1.41.59.51 0 1.02-.2 1.41-.59l7.78-7.78 2.81-2.81c.8-.78.8-2.07 0-2.86zM5.41 20L4 18.59l7.72-7.72 1.47 1.35L5.41 20z\"/>\n",
       "  </svg>\n",
       "      </button>\n",
       "      \n",
       "  <style>\n",
       "    .colab-df-container {\n",
       "      display:flex;\n",
       "      flex-wrap:wrap;\n",
       "      gap: 12px;\n",
       "    }\n",
       "\n",
       "    .colab-df-convert {\n",
       "      background-color: #E8F0FE;\n",
       "      border: none;\n",
       "      border-radius: 50%;\n",
       "      cursor: pointer;\n",
       "      display: none;\n",
       "      fill: #1967D2;\n",
       "      height: 32px;\n",
       "      padding: 0 0 0 0;\n",
       "      width: 32px;\n",
       "    }\n",
       "\n",
       "    .colab-df-convert:hover {\n",
       "      background-color: #E2EBFA;\n",
       "      box-shadow: 0px 1px 2px rgba(60, 64, 67, 0.3), 0px 1px 3px 1px rgba(60, 64, 67, 0.15);\n",
       "      fill: #174EA6;\n",
       "    }\n",
       "\n",
       "    [theme=dark] .colab-df-convert {\n",
       "      background-color: #3B4455;\n",
       "      fill: #D2E3FC;\n",
       "    }\n",
       "\n",
       "    [theme=dark] .colab-df-convert:hover {\n",
       "      background-color: #434B5C;\n",
       "      box-shadow: 0px 1px 3px 1px rgba(0, 0, 0, 0.15);\n",
       "      filter: drop-shadow(0px 1px 2px rgba(0, 0, 0, 0.3));\n",
       "      fill: #FFFFFF;\n",
       "    }\n",
       "  </style>\n",
       "\n",
       "      <script>\n",
       "        const buttonEl =\n",
       "          document.querySelector('#df-f56b5c7d-a1e2-473f-9b65-774b223443b0 button.colab-df-convert');\n",
       "        buttonEl.style.display =\n",
       "          google.colab.kernel.accessAllowed ? 'block' : 'none';\n",
       "\n",
       "        async function convertToInteractive(key) {\n",
       "          const element = document.querySelector('#df-f56b5c7d-a1e2-473f-9b65-774b223443b0');\n",
       "          const dataTable =\n",
       "            await google.colab.kernel.invokeFunction('convertToInteractive',\n",
       "                                                     [key], {});\n",
       "          if (!dataTable) return;\n",
       "\n",
       "          const docLinkHtml = 'Like what you see? Visit the ' +\n",
       "            '<a target=\"_blank\" href=https://colab.research.google.com/notebooks/data_table.ipynb>data table notebook</a>'\n",
       "            + ' to learn more about interactive tables.';\n",
       "          element.innerHTML = '';\n",
       "          dataTable['output_type'] = 'display_data';\n",
       "          await google.colab.output.renderOutput(dataTable, element);\n",
       "          const docLink = document.createElement('div');\n",
       "          docLink.innerHTML = docLinkHtml;\n",
       "          element.appendChild(docLink);\n",
       "        }\n",
       "      </script>\n",
       "    </div>\n",
       "  </div>\n",
       "  "
      ],
      "text/plain": [
       "              Refund   Fines        Make    Model\n",
       "CarNumber                                        \n",
       "E316EH197RUS       1  1300.0  Volkswagen     None\n",
       "E316EH197RUS       1  1300.0  Volkswagen  Touareg"
      ]
     },
     "execution_count": 98,
     "metadata": {},
     "output_type": "execute_result"
    }
   ],
   "source": [
    "new_df = df[['Make', 'Model']].reset_index().drop_duplicates().groupby(\n",
    "    'CarNumber')['Make'].count().reset_index().sort_values('Make', ascending=False)\n",
    "df.loc[new_df[new_df['Make'] > 1]['CarNumber']]"
   ]
  }
 ],
 "metadata": {
  "colab": {
   "authorship_tag": "ABX9TyO38vWI+dJ8BAgyWiwcv3vw",
   "collapsed_sections": [],
   "provenance": []
  },
  "kernelspec": {
   "display_name": "Python 3 (ipykernel)",
   "language": "python",
   "name": "python3"
  },
  "language_info": {
   "codemirror_mode": {
    "name": "ipython",
    "version": 3
   },
   "file_extension": ".py",
   "mimetype": "text/x-python",
   "name": "python",
   "nbconvert_exporter": "python",
   "pygments_lexer": "ipython3",
   "version": "3.8.10"
  }
 },
 "nbformat": 4,
 "nbformat_minor": 1
}
